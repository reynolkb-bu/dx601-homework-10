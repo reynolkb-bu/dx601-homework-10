{
 "cells": [
  {
   "cell_type": "markdown",
   "metadata": {},
   "source": [
    "# DX 601 Week 10 Homework"
   ]
  },
  {
   "cell_type": "markdown",
   "metadata": {},
   "source": [
    "## Introduction\n",
    "\n",
    "In this homework, you will practice basic operations with matrices."
   ]
  },
  {
   "cell_type": "markdown",
   "metadata": {},
   "source": [
    "## Example Code\n",
    "\n",
    "You may find it helpful to refer to this GitHub repository of Jupyter notebooks for example code.\n",
    "\n",
    "* https://github.com/bu-cds-omds/dx500-examples\n",
    "* https://github.com/bu-cds-omds/dx601-examples\n",
    "* https://github.com/bu-cds-omds/dx602-examples\n",
    "\n",
    "Any calculations demonstrated in code examples or videos may be found in these notebooks, and you are allowed to copy this example code in your homework answers."
   ]
  },
  {
   "cell_type": "markdown",
   "metadata": {},
   "source": [
    "## Shared Imports\n",
    "\n",
    "Do not install or use any additional modules.\n",
    "Installing additional modules may result in an autograder failure resulting in zero points for some or all problems."
   ]
  },
  {
   "cell_type": "code",
   "metadata": {
    "ExecuteTime": {
     "end_time": "2025-10-24T16:55:27.973903Z",
     "start_time": "2025-10-24T16:55:27.968432Z"
    }
   },
   "source": [
    "import math\n",
    "import sys"
   ],
   "outputs": [],
   "execution_count": 1
  },
  {
   "cell_type": "code",
   "metadata": {
    "ExecuteTime": {
     "end_time": "2025-10-24T16:55:41.969812Z",
     "start_time": "2025-10-24T16:55:30.394782Z"
    }
   },
   "source": [
    "import matplotlib.pyplot as plt\n",
    "import numpy as np\n",
    "import pandas as pd"
   ],
   "outputs": [],
   "execution_count": 2
  },
  {
   "cell_type": "markdown",
   "metadata": {},
   "source": [
    "## Problems"
   ]
  },
  {
   "cell_type": "markdown",
   "metadata": {},
   "source": [
    "### Problem 1\n",
    "\n",
    "Set `p1` to the trace of the matrix\n",
    "\\begin{bmatrix}\n",
    "1 & 5 & 2 \\\\\n",
    "-7 & 9 & 8 \\\\\n",
    "3 & 2 & 6 \\\\\n",
    "\\end{bmatrix}\n"
   ]
  },
  {
   "cell_type": "code",
   "metadata": {
    "ExecuteTime": {
     "end_time": "2025-10-24T16:57:50.894636Z",
     "start_time": "2025-10-24T16:57:50.892415Z"
    }
   },
   "source": [
    "# YOUR CHANGES HERE\n",
    "\n",
    "arr = np.array([[1, 5, 2],\n",
    "                [-7, 9, 8],\n",
    "                [3, 2, 6]])\n",
    "\n",
    "p1 = np.trace(arr)"
   ],
   "outputs": [],
   "execution_count": 8
  },
  {
   "cell_type": "code",
   "metadata": {
    "ExecuteTime": {
     "end_time": "2025-10-24T16:57:51.935726Z",
     "start_time": "2025-10-24T16:57:51.933267Z"
    }
   },
   "source": [
    "p1"
   ],
   "outputs": [
    {
     "data": {
      "text/plain": [
       "np.int64(16)"
      ]
     },
     "execution_count": 9,
     "metadata": {},
     "output_type": "execute_result"
    }
   ],
   "execution_count": 9
  },
  {
   "cell_type": "markdown",
   "metadata": {},
   "source": [
    "### Problem 2\n",
    "\n",
    "Set `p2` to the transpose of the matrix\n",
    "\n",
    "\\begin{bmatrix}\n",
    "4 & 2 & 7 \\\\\n",
    "8 & 5 & 1 \\\\\n",
    "2 & 6 & 3 \\\\\n",
    "\\end{bmatrix}\n"
   ]
  },
  {
   "cell_type": "code",
   "metadata": {
    "ExecuteTime": {
     "end_time": "2025-10-24T16:58:30.885159Z",
     "start_time": "2025-10-24T16:58:30.883257Z"
    }
   },
   "source": [
    "# YOUR CHANGES HERE\n",
    "\n",
    "arr = np.array([[4, 2, 7],\n",
    "                [8, 5, 1],\n",
    "                [2, 6, 3]])\n",
    "\n",
    "p2 = np.transpose(arr)"
   ],
   "outputs": [],
   "execution_count": 10
  },
  {
   "cell_type": "code",
   "metadata": {
    "ExecuteTime": {
     "end_time": "2025-10-24T16:58:32.110435Z",
     "start_time": "2025-10-24T16:58:32.107571Z"
    }
   },
   "source": [
    "p2"
   ],
   "outputs": [
    {
     "data": {
      "text/plain": [
       "array([[4, 8, 2],\n",
       "       [2, 5, 6],\n",
       "       [7, 1, 3]])"
      ]
     },
     "execution_count": 11,
     "metadata": {},
     "output_type": "execute_result"
    }
   ],
   "execution_count": 11
  },
  {
   "cell_type": "markdown",
   "metadata": {},
   "source": [
    "### Problem 3\n",
    "\n",
    "Set `p3` to be the transpose of `q3`.\n"
   ]
  },
  {
   "cell_type": "code",
   "metadata": {
    "ExecuteTime": {
     "end_time": "2025-10-24T16:58:50.970338Z",
     "start_time": "2025-10-24T16:58:50.966896Z"
    }
   },
   "source": [
    "# DO NOT CHANGE\n",
    "\n",
    "q3 = np.array([[-0.01360112, -1.46500812, -0.27692561, -0.42310394, -1.08916478],\n",
    "       [-0.92981147, -1.33763129, -0.60155956,  1.20761548,  0.84523834],\n",
    "       [-0.7357686 , -0.17268799,  0.88596177, -0.98521575, -1.15429029],\n",
    "       [-0.98100767, -0.16181207,  0.52053393,  0.74956931, -2.0668364 ],\n",
    "       [-0.55031032, -0.96781023,  0.2562466 ,  1.05642169, -0.48648003]])\n",
    "q3"
   ],
   "outputs": [
    {
     "data": {
      "text/plain": [
       "array([[-0.01360112, -1.46500812, -0.27692561, -0.42310394, -1.08916478],\n",
       "       [-0.92981147, -1.33763129, -0.60155956,  1.20761548,  0.84523834],\n",
       "       [-0.7357686 , -0.17268799,  0.88596177, -0.98521575, -1.15429029],\n",
       "       [-0.98100767, -0.16181207,  0.52053393,  0.74956931, -2.0668364 ],\n",
       "       [-0.55031032, -0.96781023,  0.2562466 ,  1.05642169, -0.48648003]])"
      ]
     },
     "execution_count": 12,
     "metadata": {},
     "output_type": "execute_result"
    }
   ],
   "execution_count": 12
  },
  {
   "cell_type": "markdown",
   "metadata": {},
   "source": [
    "Hint: NumPy has a few ways to do this trivially.\n",
    "You can look them up faster than typing in this matrix or its transpose."
   ]
  },
  {
   "cell_type": "code",
   "metadata": {
    "ExecuteTime": {
     "end_time": "2025-10-24T16:59:08.891564Z",
     "start_time": "2025-10-24T16:59:08.890045Z"
    }
   },
   "source": [
    "# YOUR CHANGES HERE\n",
    "\n",
    "p3 = np.transpose(q3)"
   ],
   "outputs": [],
   "execution_count": 13
  },
  {
   "cell_type": "code",
   "metadata": {
    "ExecuteTime": {
     "end_time": "2025-10-24T16:59:09.965352Z",
     "start_time": "2025-10-24T16:59:09.962967Z"
    }
   },
   "source": [
    "p3"
   ],
   "outputs": [
    {
     "data": {
      "text/plain": [
       "array([[-0.01360112, -0.92981147, -0.7357686 , -0.98100767, -0.55031032],\n",
       "       [-1.46500812, -1.33763129, -0.17268799, -0.16181207, -0.96781023],\n",
       "       [-0.27692561, -0.60155956,  0.88596177,  0.52053393,  0.2562466 ],\n",
       "       [-0.42310394,  1.20761548, -0.98521575,  0.74956931,  1.05642169],\n",
       "       [-1.08916478,  0.84523834, -1.15429029, -2.0668364 , -0.48648003]])"
      ]
     },
     "execution_count": 14,
     "metadata": {},
     "output_type": "execute_result"
    }
   ],
   "execution_count": 14
  },
  {
   "cell_type": "markdown",
   "metadata": {},
   "source": [
    "### Problem 4\n",
    "\n",
    "Write a function `p4` that returns `True` if an input matrix is symmetric and `False` otherwise."
   ]
  },
  {
   "cell_type": "markdown",
   "metadata": {},
   "source": [
    "Hint: NumPy has a function [`np.array_equal`](https://numpy.org/doc/stable/reference/generated/numpy.array_equal.html) that will make this easier."
   ]
  },
  {
   "cell_type": "code",
   "metadata": {
    "ExecuteTime": {
     "end_time": "2025-10-24T17:10:53.610164Z",
     "start_time": "2025-10-24T17:10:53.608093Z"
    }
   },
   "source": [
    "# YOUR CHANGES HERE\n",
    "\n",
    "def p4(m):\n",
    "    arr_transpose = np.transpose(m)\n",
    "    return np.array_equal(m, arr_transpose)"
   ],
   "outputs": [],
   "execution_count": 19
  },
  {
   "cell_type": "code",
   "metadata": {
    "ExecuteTime": {
     "end_time": "2025-10-24T17:10:54.430263Z",
     "start_time": "2025-10-24T17:10:54.427830Z"
    }
   },
   "source": [
    "# should return true\n",
    "p4(np.array([[1, 0], [0, 1]]))"
   ],
   "outputs": [
    {
     "data": {
      "text/plain": [
       "True"
      ]
     },
     "execution_count": 20,
     "metadata": {},
     "output_type": "execute_result"
    }
   ],
   "execution_count": 20
  },
  {
   "cell_type": "code",
   "metadata": {
    "ExecuteTime": {
     "end_time": "2025-10-24T17:10:55.342347Z",
     "start_time": "2025-10-24T17:10:55.339734Z"
    }
   },
   "source": [
    "# should return false\n",
    "p4(np.array([[1, 2], [3, 4]]))"
   ],
   "outputs": [
    {
     "data": {
      "text/plain": [
       "False"
      ]
     },
     "execution_count": 21,
     "metadata": {},
     "output_type": "execute_result"
    }
   ],
   "execution_count": 21
  },
  {
   "cell_type": "markdown",
   "metadata": {},
   "source": [
    "### Problem 5\n",
    "\n",
    "Set `p5` to $3x + 2y$ where $x$ and $y$ are respectively in `x5` and `y5`.\n"
   ]
  },
  {
   "cell_type": "code",
   "execution_count": 260,
   "metadata": {},
   "outputs": [
    {
     "data": {
      "text/plain": [
       "array([[-0.24389677, -0.26830261, -0.9870142 ,  1.23274779,  0.00824161],\n",
       "       [ 0.33685162,  0.50438823,  0.50953501,  1.06299757,  0.47553274],\n",
       "       [-0.06979652,  0.88705427,  0.06441108, -0.36479521,  2.14335222],\n",
       "       [ 0.20775683,  0.96549669,  0.89559484,  1.36015926,  0.21595356],\n",
       "       [ 1.42545495,  1.1969253 ,  0.84640923,  1.79356692, -1.83408336]])"
      ]
     },
     "execution_count": 260,
     "metadata": {},
     "output_type": "execute_result"
    }
   ],
   "source": [
    "# DO NOT CHANGE\n",
    "\n",
    "x5 = np.array([[-0.24389677, -0.26830261, -0.9870142 ,  1.23274779,  0.00824161],\n",
    "       [ 0.33685162,  0.50438823,  0.50953501,  1.06299757,  0.47553274],\n",
    "       [-0.06979652,  0.88705427,  0.06441108, -0.36479521,  2.14335222],\n",
    "       [ 0.20775683,  0.96549669,  0.89559484,  1.36015926,  0.21595356],\n",
    "       [ 1.42545495,  1.1969253 ,  0.84640923,  1.79356692, -1.83408336]])\n",
    "x5"
   ]
  },
  {
   "cell_type": "code",
   "execution_count": 261,
   "metadata": {},
   "outputs": [
    {
     "data": {
      "text/plain": [
       "array([[ 1.46994671, -0.05535155,  0.1809549 ,  0.09982112,  0.72415382],\n",
       "       [-0.43302509,  0.28419608,  1.43481809,  0.19801696,  0.22396864],\n",
       "       [-1.21475138,  0.60960865,  0.90861035,  0.25103477,  0.57198302],\n",
       "       [-1.21089702,  0.17419828,  0.04772397, -0.97154458, -0.74168603],\n",
       "       [-2.05435996,  0.00357587, -0.31438553, -0.52754128,  0.35035861]])"
      ]
     },
     "execution_count": 261,
     "metadata": {},
     "output_type": "execute_result"
    }
   ],
   "source": [
    "# DO NOT CHANGE\n",
    "\n",
    "y5 = np.array([[ 1.46994671, -0.05535155,  0.1809549 ,  0.09982112,  0.72415382],\n",
    "       [-0.43302509,  0.28419608,  1.43481809,  0.19801696,  0.22396864],\n",
    "       [-1.21475138,  0.60960865,  0.90861035,  0.25103477,  0.57198302],\n",
    "       [-1.21089702,  0.17419828,  0.04772397, -0.97154458, -0.74168603],\n",
    "       [-2.05435996,  0.00357587, -0.31438553, -0.52754128,  0.35035861]])\n",
    "y5"
   ]
  },
  {
   "cell_type": "code",
   "execution_count": 262,
   "metadata": {},
   "outputs": [],
   "source": [
    "# YOUR CHANGES HERE\n",
    "\n",
    "p5 = ..."
   ]
  },
  {
   "cell_type": "code",
   "execution_count": 263,
   "metadata": {},
   "outputs": [
    {
     "data": {
      "text/plain": [
       "Ellipsis"
      ]
     },
     "execution_count": 263,
     "metadata": {},
     "output_type": "execute_result"
    }
   ],
   "source": [
    "p5"
   ]
  },
  {
   "cell_type": "markdown",
   "metadata": {},
   "source": [
    "### Problem 6\n",
    "\n",
    "Set `p6` to the result of the matrix multiplication\n",
    "$\\begin{bmatrix}\n",
    "1 & 3 \\\\\n",
    "2 & 0 \\\\\n",
    "\\end{bmatrix}\n",
    "\\begin{bmatrix}\n",
    "0 & 3 \\\\\n",
    "2 & -1 \\\\\n",
    "\\end{bmatrix}$\n"
   ]
  },
  {
   "cell_type": "code",
   "execution_count": 264,
   "metadata": {},
   "outputs": [],
   "source": [
    "# YOUR CHANGES HERE\n",
    "\n",
    "p6 = ..."
   ]
  },
  {
   "cell_type": "code",
   "execution_count": 265,
   "metadata": {},
   "outputs": [
    {
     "data": {
      "text/plain": [
       "Ellipsis"
      ]
     },
     "execution_count": 265,
     "metadata": {},
     "output_type": "execute_result"
    }
   ],
   "source": [
    "p6"
   ]
  },
  {
   "cell_type": "markdown",
   "metadata": {},
   "source": [
    "### Problem 7\n",
    "\n",
    "Set `p7` to be the result of multiplying the matrices in `x7` and `y7`."
   ]
  },
  {
   "cell_type": "markdown",
   "metadata": {},
   "source": [
    "Hint: use NumPy's matrix multiplication functionality."
   ]
  },
  {
   "cell_type": "code",
   "execution_count": 266,
   "metadata": {},
   "outputs": [
    {
     "data": {
      "text/plain": [
       "array([[ 1.12510969, -0.68403506,  1.106613  ,  0.26977997,  1.31003595],\n",
       "       [-2.46789639, -0.631568  , -0.40459478, -0.44276999,  0.35342956],\n",
       "       [ 0.08847366,  1.04391453, -2.06768109, -1.59304958, -1.45124381],\n",
       "       [-0.31574675,  0.47213461,  0.01544427, -1.00203016,  0.30260759],\n",
       "       [-0.18144407,  0.55210749, -0.96200836,  0.77615041, -0.82085057]])"
      ]
     },
     "execution_count": 266,
     "metadata": {},
     "output_type": "execute_result"
    }
   ],
   "source": [
    "# DO NOT CHANGE\n",
    "\n",
    "x7 = np.array([[ 1.12510969, -0.68403506,  1.106613  ,  0.26977997,  1.31003595],\n",
    "       [-2.46789639, -0.631568  , -0.40459478, -0.44276999,  0.35342956],\n",
    "       [ 0.08847366,  1.04391453, -2.06768109, -1.59304958, -1.45124381],\n",
    "       [-0.31574675,  0.47213461,  0.01544427, -1.00203016,  0.30260759],\n",
    "       [-0.18144407,  0.55210749, -0.96200836,  0.77615041, -0.82085057]])\n",
    "x7"
   ]
  },
  {
   "cell_type": "code",
   "execution_count": 267,
   "metadata": {},
   "outputs": [
    {
     "data": {
      "text/plain": [
       "array([[-0.53240175,  0.59279203,  0.19610132,  0.31489693,  1.31591487],\n",
       "       [ 0.90107926,  0.01106459,  0.4695847 ,  0.21402271,  0.48587671],\n",
       "       [-0.31841096,  1.08388531,  0.05264241, -0.3044392 ,  1.34193777],\n",
       "       [-0.56276555, -0.71220132, -0.99487118,  0.66883629,  0.49585603],\n",
       "       [-0.01016394, -2.2580422 , -2.72960502, -0.33287333, -0.34948483]])"
      ]
     },
     "execution_count": 267,
     "metadata": {},
     "output_type": "execute_result"
    }
   ],
   "source": [
    "# DO NOT CHANGE\n",
    "\n",
    "y7 = np.array([[-0.53240175,  0.59279203,  0.19610132,  0.31489693,  1.31591487],\n",
    "       [ 0.90107926,  0.01106459,  0.4695847 ,  0.21402271,  0.48587671],\n",
    "       [-0.31841096,  1.08388531,  0.05264241, -0.3044392 ,  1.34193777],\n",
    "       [-0.56276555, -0.71220132, -0.99487118,  0.66883629,  0.49585603],\n",
    "       [-0.01016394, -2.2580422 , -2.72960502, -0.33287333, -0.34948483]])\n",
    "y7"
   ]
  },
  {
   "cell_type": "code",
   "execution_count": 268,
   "metadata": {},
   "outputs": [],
   "source": [
    "# YOUR CHANGES HERE\n",
    "\n",
    "p7 = ..."
   ]
  },
  {
   "cell_type": "code",
   "execution_count": 269,
   "metadata": {},
   "outputs": [
    {
     "data": {
      "text/plain": [
       "Ellipsis"
      ]
     },
     "execution_count": 269,
     "metadata": {},
     "output_type": "execute_result"
    }
   ],
   "source": [
    "p7"
   ]
  },
  {
   "cell_type": "markdown",
   "metadata": {},
   "source": [
    "### Problem 8\n",
    "\n",
    "Set `p8` to the result of the matrix-vector multiplication\n",
    "$\\begin{bmatrix}\n",
    "1 & 3 \\\\\n",
    "4 & 0 \\\\\n",
    "\\end{bmatrix}\n",
    "\\begin{bmatrix}\n",
    "1 \\\\\n",
    "2 \\\\\n",
    "\\end{bmatrix}$."
   ]
  },
  {
   "cell_type": "code",
   "execution_count": 270,
   "metadata": {},
   "outputs": [],
   "source": [
    "# YOUR CHANGES HERE\n",
    "\n",
    "p8 = ..."
   ]
  },
  {
   "cell_type": "code",
   "execution_count": null,
   "metadata": {},
   "outputs": [],
   "source": [
    "p8"
   ]
  },
  {
   "cell_type": "markdown",
   "metadata": {},
   "source": [
    "### Problem 9\n",
    "\n",
    "Set `p9` to be the result of matrix multiplication on `components9` and `materials9`.\n"
   ]
  },
  {
   "cell_type": "markdown",
   "metadata": {},
   "source": [
    "Hint: even though these are data frames, you can still multiply them with the @ operator as if they were NumPy arrays, but the indexes and column names will be preserved."
   ]
  },
  {
   "cell_type": "code",
   "execution_count": 271,
   "metadata": {},
   "outputs": [
    {
     "data": {
      "text/html": [
       "<div>\n",
       "<style scoped>\n",
       "    .dataframe tbody tr th:only-of-type {\n",
       "        vertical-align: middle;\n",
       "    }\n",
       "\n",
       "    .dataframe tbody tr th {\n",
       "        vertical-align: top;\n",
       "    }\n",
       "\n",
       "    .dataframe thead th {\n",
       "        text-align: right;\n",
       "    }\n",
       "</style>\n",
       "<table border=\"1\" class=\"dataframe\">\n",
       "  <thead>\n",
       "    <tr style=\"text-align: right;\">\n",
       "      <th></th>\n",
       "      <th>gears</th>\n",
       "      <th>wires</th>\n",
       "      <th>leds</th>\n",
       "    </tr>\n",
       "  </thead>\n",
       "  <tbody>\n",
       "    <tr>\n",
       "      <th>robot</th>\n",
       "      <td>4</td>\n",
       "      <td>2</td>\n",
       "      <td>5</td>\n",
       "    </tr>\n",
       "    <tr>\n",
       "      <th>cart</th>\n",
       "      <td>1</td>\n",
       "      <td>1</td>\n",
       "      <td>2</td>\n",
       "    </tr>\n",
       "    <tr>\n",
       "      <th>vacuum</th>\n",
       "      <td>2</td>\n",
       "      <td>3</td>\n",
       "      <td>1</td>\n",
       "    </tr>\n",
       "  </tbody>\n",
       "</table>\n",
       "</div>"
      ],
      "text/plain": [
       "        gears  wires  leds\n",
       "robot       4      2     5\n",
       "cart        1      1     2\n",
       "vacuum      2      3     1"
      ]
     },
     "execution_count": 271,
     "metadata": {},
     "output_type": "execute_result"
    }
   ],
   "source": [
    "# DO NOT CHANGE\n",
    "\n",
    "components9 = pd.DataFrame(index=[\"robot\", \"cart\", \"vacuum\"],\n",
    "                           data={\"gears\": [4, 1, 2], \"wires\": [2, 1, 3], \"leds\": [5, 2, 1]})\n",
    "components9"
   ]
  },
  {
   "cell_type": "code",
   "execution_count": 272,
   "metadata": {},
   "outputs": [
    {
     "data": {
      "text/html": [
       "<div>\n",
       "<style scoped>\n",
       "    .dataframe tbody tr th:only-of-type {\n",
       "        vertical-align: middle;\n",
       "    }\n",
       "\n",
       "    .dataframe tbody tr th {\n",
       "        vertical-align: top;\n",
       "    }\n",
       "\n",
       "    .dataframe thead th {\n",
       "        text-align: right;\n",
       "    }\n",
       "</style>\n",
       "<table border=\"1\" class=\"dataframe\">\n",
       "  <thead>\n",
       "    <tr style=\"text-align: right;\">\n",
       "      <th></th>\n",
       "      <th>metal</th>\n",
       "      <th>plastic</th>\n",
       "    </tr>\n",
       "  </thead>\n",
       "  <tbody>\n",
       "    <tr>\n",
       "      <th>gears</th>\n",
       "      <td>1.00</td>\n",
       "      <td>1.00</td>\n",
       "    </tr>\n",
       "    <tr>\n",
       "      <th>wires</th>\n",
       "      <td>0.20</td>\n",
       "      <td>0.40</td>\n",
       "    </tr>\n",
       "    <tr>\n",
       "      <th>leds</th>\n",
       "      <td>0.01</td>\n",
       "      <td>0.02</td>\n",
       "    </tr>\n",
       "  </tbody>\n",
       "</table>\n",
       "</div>"
      ],
      "text/plain": [
       "       metal  plastic\n",
       "gears   1.00     1.00\n",
       "wires   0.20     0.40\n",
       "leds    0.01     0.02"
      ]
     },
     "execution_count": 272,
     "metadata": {},
     "output_type": "execute_result"
    }
   ],
   "source": [
    "# DO NOT CHANGE\n",
    "\n",
    "materials9 = pd.DataFrame(index=[\"gears\", \"wires\", \"leds\"],\n",
    "                          data={\"metal\": [1, 0.2, 0.01], \"plastic\": [1, 0.4, 0.02]})\n",
    "materials9"
   ]
  },
  {
   "cell_type": "code",
   "execution_count": 273,
   "metadata": {},
   "outputs": [],
   "source": [
    "# YOUR CHANGES HERE\n",
    "\n",
    "p9 = ..."
   ]
  },
  {
   "cell_type": "code",
   "execution_count": 274,
   "metadata": {},
   "outputs": [
    {
     "data": {
      "text/plain": [
       "Ellipsis"
      ]
     },
     "execution_count": 274,
     "metadata": {},
     "output_type": "execute_result"
    }
   ],
   "source": [
    "p9"
   ]
  },
  {
   "cell_type": "markdown",
   "metadata": {},
   "source": [
    "### Problem 10\n",
    "\n",
    "The variable `q10` has the transition probabilities for a trivial weather model based on Markov chains.\n",
    "Set `p10` to be the steady state probabilities of each weather condition under this model."
   ]
  },
  {
   "cell_type": "code",
   "execution_count": null,
   "metadata": {},
   "outputs": [
    {
     "data": {
      "text/html": [
       "<div>\n",
       "<style scoped>\n",
       "    .dataframe tbody tr th:only-of-type {\n",
       "        vertical-align: middle;\n",
       "    }\n",
       "\n",
       "    .dataframe tbody tr th {\n",
       "        vertical-align: top;\n",
       "    }\n",
       "\n",
       "    .dataframe thead th {\n",
       "        text-align: right;\n",
       "    }\n",
       "</style>\n",
       "<table border=\"1\" class=\"dataframe\">\n",
       "  <thead>\n",
       "    <tr style=\"text-align: right;\">\n",
       "      <th></th>\n",
       "      <th>sun</th>\n",
       "      <th>cloudy</th>\n",
       "      <th>rainy</th>\n",
       "    </tr>\n",
       "  </thead>\n",
       "  <tbody>\n",
       "    <tr>\n",
       "      <th>sun</th>\n",
       "      <td>0.8</td>\n",
       "      <td>0.1</td>\n",
       "      <td>0.1</td>\n",
       "    </tr>\n",
       "    <tr>\n",
       "      <th>cloudy</th>\n",
       "      <td>0.1</td>\n",
       "      <td>0.5</td>\n",
       "      <td>0.4</td>\n",
       "    </tr>\n",
       "    <tr>\n",
       "      <th>rainy</th>\n",
       "      <td>0.1</td>\n",
       "      <td>0.2</td>\n",
       "      <td>0.7</td>\n",
       "    </tr>\n",
       "  </tbody>\n",
       "</table>\n",
       "</div>"
      ],
      "text/plain": [
       "        sun  cloudy  rainy\n",
       "sun     0.8     0.1    0.1\n",
       "cloudy  0.1     0.5    0.4\n",
       "rainy   0.1     0.2    0.7"
      ]
     },
     "execution_count": 275,
     "metadata": {},
     "output_type": "execute_result"
    }
   ],
   "source": [
    "# DO NOT CHANGE\n",
    "\n",
    "q10 = pd.DataFrame(index=[\"sun\", \"cloudy\", \"rainy\"],\n",
    "                   data={\"sun\": [0.8, 0.1, 0.1],\n",
    "                         \"cloudy\": [0.1, 0.5, 0.2],\n",
    "                         \"rainy\": [0.1, 0.4, 0.7]})\n",
    "q10"
   ]
  },
  {
   "cell_type": "code",
   "execution_count": null,
   "metadata": {},
   "outputs": [],
   "source": [
    "# YOUR CHANGES HERE\n",
    "\n",
    "p10 = ..."
   ]
  },
  {
   "cell_type": "code",
   "execution_count": null,
   "metadata": {},
   "outputs": [],
   "source": [
    "p10"
   ]
  },
  {
   "cell_type": "markdown",
   "metadata": {},
   "source": [
    "### Problem 11\n",
    "\n",
    "The vector `v11` below is an eigenvector of the matrix `q11`.\n",
    "Set `p11` to the eigenvalue corresponding to `v11`."
   ]
  },
  {
   "cell_type": "code",
   "execution_count": 277,
   "metadata": {},
   "outputs": [
    {
     "data": {
      "text/plain": [
       "array([[1, 2],\n",
       "       [2, 4]])"
      ]
     },
     "execution_count": 277,
     "metadata": {},
     "output_type": "execute_result"
    }
   ],
   "source": [
    "# DO NOT CHANGE\n",
    "\n",
    "q11 = np.array([[1, 2], [2, 4]])\n",
    "q11"
   ]
  },
  {
   "cell_type": "code",
   "execution_count": 278,
   "metadata": {},
   "outputs": [
    {
     "data": {
      "text/plain": [
       "array([[1],\n",
       "       [2]])"
      ]
     },
     "execution_count": 278,
     "metadata": {},
     "output_type": "execute_result"
    }
   ],
   "source": [
    "# DO NOT CHANGE\n",
    "\n",
    "v11 = np.array([[1], [2]])\n",
    "v11"
   ]
  },
  {
   "cell_type": "code",
   "execution_count": 279,
   "metadata": {},
   "outputs": [
    {
     "data": {
      "text/plain": [
       "array([[ 5],\n",
       "       [10]])"
      ]
     },
     "execution_count": 279,
     "metadata": {},
     "output_type": "execute_result"
    }
   ],
   "source": [
    "# DO NOT CHANGE\n",
    "\n",
    "q11 @ v11"
   ]
  },
  {
   "cell_type": "code",
   "execution_count": 280,
   "metadata": {},
   "outputs": [],
   "source": [
    "# YOUR CHANGES HERE\n",
    "\n",
    "p11 = ..."
   ]
  },
  {
   "cell_type": "code",
   "execution_count": 281,
   "metadata": {},
   "outputs": [
    {
     "data": {
      "text/plain": [
       "Ellipsis"
      ]
     },
     "execution_count": 281,
     "metadata": {},
     "output_type": "execute_result"
    }
   ],
   "source": [
    "p11"
   ]
  },
  {
   "cell_type": "markdown",
   "metadata": {},
   "source": [
    "### Problem 12\n",
    "\n",
    "Set `p12` to the reduced row echelon form of `q12`.\n"
   ]
  },
  {
   "cell_type": "markdown",
   "metadata": {},
   "source": [
    "Hint: just do this on paper instead of looking for a NumPy function."
   ]
  },
  {
   "cell_type": "code",
   "execution_count": 282,
   "metadata": {},
   "outputs": [
    {
     "data": {
      "text/plain": [
       "array([[1, 0, 1],\n",
       "       [0, 1, 3],\n",
       "       [0, 0, 2]])"
      ]
     },
     "execution_count": 282,
     "metadata": {},
     "output_type": "execute_result"
    }
   ],
   "source": [
    "# DO NOT CHANGE\n",
    "\n",
    "q12 = np.array([[1, 0, 1], [0, 1, 3], [0, 0, 2]])\n",
    "q12"
   ]
  },
  {
   "cell_type": "code",
   "execution_count": null,
   "metadata": {},
   "outputs": [],
   "source": [
    "# YOUR CHANGES HERE\n",
    "\n",
    "p12 = ..."
   ]
  },
  {
   "cell_type": "code",
   "execution_count": null,
   "metadata": {},
   "outputs": [],
   "source": [
    "p12"
   ]
  },
  {
   "cell_type": "markdown",
   "metadata": {},
   "source": [
    "### Problem 13\n",
    "\n",
    "Set `p13` to the reduced row echelon form of `q13`."
   ]
  },
  {
   "cell_type": "markdown",
   "metadata": {},
   "source": [
    "Hint: just do this on paper instead of looking for a NumPy function."
   ]
  },
  {
   "cell_type": "code",
   "execution_count": 283,
   "metadata": {},
   "outputs": [
    {
     "data": {
      "text/plain": [
       "array([[3, 0, 1],\n",
       "       [6, 3, 2],\n",
       "       [0, 2, 0]])"
      ]
     },
     "execution_count": 283,
     "metadata": {},
     "output_type": "execute_result"
    }
   ],
   "source": [
    "# DO NOT CHANGE\n",
    "\n",
    "q13 = np.array([[3, 0, 1], [6, 3, 2], [0, 2, 0]])\n",
    "q13"
   ]
  },
  {
   "cell_type": "code",
   "execution_count": null,
   "metadata": {},
   "outputs": [],
   "source": [
    "# YOUR CHANGES HERE\n",
    "\n",
    "p13 = ..."
   ]
  },
  {
   "cell_type": "code",
   "execution_count": null,
   "metadata": {},
   "outputs": [],
   "source": [
    "p13"
   ]
  },
  {
   "cell_type": "markdown",
   "metadata": {},
   "source": [
    "### Problem 14\n",
    "\n",
    "Set `p14` to be the rank of `q14`.\n"
   ]
  },
  {
   "cell_type": "code",
   "execution_count": 284,
   "metadata": {},
   "outputs": [
    {
     "data": {
      "text/plain": [
       "array([[0, 2, 0],\n",
       "       [1, 0, 3],\n",
       "       [2, 2, 6]])"
      ]
     },
     "execution_count": 284,
     "metadata": {},
     "output_type": "execute_result"
    }
   ],
   "source": [
    "# DO NOT CHANGE\n",
    "\n",
    "q14 = np.array([[0, 2, 0], [1, 0, 3], [2, 2, 6]])\n",
    "q14"
   ]
  },
  {
   "cell_type": "code",
   "execution_count": 285,
   "metadata": {},
   "outputs": [],
   "source": [
    "# YOUR CHANGES HERE\n",
    "\n",
    "p14 = ..."
   ]
  },
  {
   "cell_type": "code",
   "execution_count": 286,
   "metadata": {},
   "outputs": [
    {
     "data": {
      "text/plain": [
       "Ellipsis"
      ]
     },
     "execution_count": 286,
     "metadata": {},
     "output_type": "execute_result"
    }
   ],
   "source": [
    "p14"
   ]
  },
  {
   "cell_type": "markdown",
   "metadata": {},
   "source": [
    "### Problem 15\n",
    "\n",
    "Set `p15` to be $\\mathbf{Q}^3$ where $\\mathbf{Q}$ is in `q15`."
   ]
  },
  {
   "cell_type": "code",
   "execution_count": 295,
   "metadata": {},
   "outputs": [
    {
     "data": {
      "text/plain": [
       "array([[1. , 0. , 0.1],\n",
       "       [0. , 1. , 0.1],\n",
       "       [0.1, 0. , 1. ]])"
      ]
     },
     "execution_count": 295,
     "metadata": {},
     "output_type": "execute_result"
    }
   ],
   "source": [
    "# DO NOT CHANGE\n",
    "\n",
    "q15 = np.array([[1.0, 0.0, 0.1], [0.0, 1.0, 0.1], [0.1, 0.0, 1.0]])\n",
    "q15"
   ]
  },
  {
   "cell_type": "code",
   "execution_count": null,
   "metadata": {},
   "outputs": [],
   "source": [
    "# YOUR CHANGES HERE\n",
    "\n",
    "p15 = ..."
   ]
  },
  {
   "cell_type": "code",
   "execution_count": null,
   "metadata": {},
   "outputs": [],
   "source": [
    "p15"
   ]
  },
  {
   "cell_type": "markdown",
   "metadata": {},
   "source": [
    "### Problem 16\n",
    "\n",
    "Given the transition matrix for a Markov chain in `q16`, what is the conditional probability of being in state 2 at time step 10 after being in state 0 at time step 0."
   ]
  },
  {
   "cell_type": "markdown",
   "metadata": {},
   "source": [
    "Hint: NumPy has a function [`matrix_power`](https://numpy.org/devdocs/reference/generated/numpy.linalg.matrix_power.html) which will make this easier."
   ]
  },
  {
   "cell_type": "code",
   "execution_count": 296,
   "metadata": {},
   "outputs": [
    {
     "data": {
      "text/plain": [
       "array([[0.1, 0.3, 0.6],\n",
       "       [0.2, 0.5, 0.3],\n",
       "       [1. , 0. , 0. ]])"
      ]
     },
     "execution_count": 296,
     "metadata": {},
     "output_type": "execute_result"
    }
   ],
   "source": [
    "# DO NOT CHANGE\n",
    "\n",
    "q16 = np.array([[0.1, 0.3, 0.6], [0.2, 0.5, 0.3], [1.0, 0.0, 0.0]])\n",
    "q16"
   ]
  },
  {
   "cell_type": "code",
   "execution_count": null,
   "metadata": {},
   "outputs": [],
   "source": [
    "# YOUR CHANGES HERE\n",
    "\n",
    "p16 = ..."
   ]
  },
  {
   "cell_type": "code",
   "execution_count": null,
   "metadata": {},
   "outputs": [],
   "source": [
    "p16"
   ]
  },
  {
   "cell_type": "markdown",
   "metadata": {},
   "source": [
    "### Problem 17\n",
    "\n",
    "Set `p17` to the results of Gaussian elimination on `q17`."
   ]
  },
  {
   "cell_type": "code",
   "execution_count": 297,
   "metadata": {},
   "outputs": [
    {
     "data": {
      "text/plain": [
       "array([[0. , 1. , 0. , 2. ],\n",
       "       [1. , 0. , 1. , 0. ],\n",
       "       [1. , 1. , 1. , 2. ],\n",
       "       [0. , 0. , 0. , 0.1]])"
      ]
     },
     "execution_count": 297,
     "metadata": {},
     "output_type": "execute_result"
    }
   ],
   "source": [
    "# DO NOT CHANGE\n",
    "\n",
    "q17 = np.array([[0.0, 1.0, 0.0, 2.0], [1.0, 0.0, 1.0, 0.0], [1.0, 1.0, 1.0, 2.0], [0.0, 0.0, 0.0, 0.1]])\n",
    "q17"
   ]
  },
  {
   "cell_type": "code",
   "execution_count": null,
   "metadata": {},
   "outputs": [],
   "source": [
    "# YOUR CHANGES HERE\n",
    "\n",
    "p17 = ..."
   ]
  },
  {
   "cell_type": "code",
   "execution_count": null,
   "metadata": {},
   "outputs": [],
   "source": [
    "p17"
   ]
  },
  {
   "cell_type": "markdown",
   "metadata": {},
   "source": [
    "### Problem 18\n",
    "\n",
    "Set `p18` to be a row vector of two numbers that are coefficients to show that the third row of `q18` is linearly dependent on the first two rows of `q18`."
   ]
  },
  {
   "cell_type": "markdown",
   "metadata": {},
   "source": [
    "Hint: do this by hand instead of in code, and use the tracking trick."
   ]
  },
  {
   "cell_type": "code",
   "execution_count": 287,
   "metadata": {},
   "outputs": [
    {
     "data": {
      "text/plain": [
       "array([[0.2, 0.5, 0.3],\n",
       "       [0.1, 0.1, 0.1],\n",
       "       [0.4, 0.7, 0.5]])"
      ]
     },
     "execution_count": 287,
     "metadata": {},
     "output_type": "execute_result"
    }
   ],
   "source": [
    "# DO NOT CHANGE\n",
    "\n",
    "q18 = np.array([[0.2, 0.5, 0.3], [0.1, 0.1, 0.1], [0.4, 0.7, 0.5]])\n",
    "q18"
   ]
  },
  {
   "cell_type": "code",
   "execution_count": 288,
   "metadata": {},
   "outputs": [],
   "source": [
    "p18 = ..."
   ]
  },
  {
   "cell_type": "code",
   "execution_count": 289,
   "metadata": {},
   "outputs": [
    {
     "data": {
      "text/plain": [
       "Ellipsis"
      ]
     },
     "execution_count": 289,
     "metadata": {},
     "output_type": "execute_result"
    }
   ],
   "source": [
    "p18"
   ]
  },
  {
   "cell_type": "code",
   "execution_count": 290,
   "metadata": {},
   "outputs": [],
   "source": [
    "# should match the last row of q18\n",
    "\n",
    "p18 @ q18[:2,:] if p18 is not ... else None"
   ]
  },
  {
   "cell_type": "markdown",
   "metadata": {},
   "source": [
    "### Problem 19\n",
    "\n",
    "Set `p19` to be the inverse of `q19`.\n"
   ]
  },
  {
   "cell_type": "markdown",
   "metadata": {},
   "source": [
    "Hint: NumPy has a function for this in its \"linalg\" sub-module."
   ]
  },
  {
   "cell_type": "code",
   "execution_count": 291,
   "metadata": {},
   "outputs": [
    {
     "data": {
      "text/plain": [
       "array([[1. , 0.2, 0.4],\n",
       "       [0.3, 1.2, 1.5],\n",
       "       [2. , 0.1, 0.2]])"
      ]
     },
     "execution_count": 291,
     "metadata": {},
     "output_type": "execute_result"
    }
   ],
   "source": [
    "# DO NOT CHANGE\n",
    "\n",
    "q19 = np.array([[1, 0.2, 0.4], [0.3, 1.2, 1.5], [2.0, 0.1, 0.2]])\n",
    "q19"
   ]
  },
  {
   "cell_type": "code",
   "execution_count": 292,
   "metadata": {},
   "outputs": [],
   "source": [
    "# YOUR CHANGES HERE\n",
    "\n",
    "p19 = ..."
   ]
  },
  {
   "cell_type": "code",
   "execution_count": 293,
   "metadata": {},
   "outputs": [
    {
     "data": {
      "text/plain": [
       "Ellipsis"
      ]
     },
     "execution_count": 293,
     "metadata": {},
     "output_type": "execute_result"
    }
   ],
   "source": [
    "p19"
   ]
  },
  {
   "cell_type": "code",
   "execution_count": 294,
   "metadata": {},
   "outputs": [],
   "source": [
    "# try multiplying them together if p19 was assigned. should give an identity matrix.\n",
    "\n",
    "q19 @ p19 if p19 is not ... else None\n"
   ]
  },
  {
   "cell_type": "markdown",
   "metadata": {},
   "source": [
    "### Problem 20\n",
    "\n",
    "The matrix in `q20` represents a rotation transformation.\n",
    "Set `p20` to the angle in radians of that rotation.\n"
   ]
  },
  {
   "cell_type": "markdown",
   "metadata": {},
   "source": [
    "Hint: such a matrix is usually called a \"rotation matrix\"."
   ]
  },
  {
   "cell_type": "code",
   "execution_count": 298,
   "metadata": {},
   "outputs": [
    {
     "data": {
      "text/plain": [
       "array([[ 0.74022936, -0.67235445],\n",
       "       [ 0.67235445,  0.74022936]])"
      ]
     },
     "execution_count": 298,
     "metadata": {},
     "output_type": "execute_result"
    }
   ],
   "source": [
    "# DO NOT CHANGE\n",
    "\n",
    "q20 = np.array([[0.7402293552151602, -0.672354446462391], [0.672354446462391, 0.7402293552151602]])\n",
    "q20"
   ]
  },
  {
   "cell_type": "code",
   "execution_count": null,
   "metadata": {},
   "outputs": [],
   "source": [
    "# YOUR CHANGES HERE\n",
    "\n",
    "p20 = ..."
   ]
  },
  {
   "cell_type": "code",
   "execution_count": null,
   "metadata": {},
   "outputs": [],
   "source": [
    "p20"
   ]
  },
  {
   "cell_type": "markdown",
   "metadata": {},
   "source": [
    "### Generative AI Usage\n",
    "\n",
    "If you used any generative AI tools, please add links to your transcripts below, and any other information that you feel is necessary to comply with the [generative AI policy](https://www.bu.edu/cds-faculty/culture-community/gaia-policy/).\n",
    "If you did not use any generative AI tools, simply write NONE below."
   ]
  },
  {
   "cell_type": "markdown",
   "metadata": {},
   "source": [
    "YOUR ANSWER HERE"
   ]
  }
 ],
 "metadata": {
  "kernelspec": {
   "display_name": "Python 3",
   "language": "python",
   "name": "python3"
  },
  "language_info": {
   "codemirror_mode": {
    "name": "ipython",
    "version": 3
   },
   "file_extension": ".py",
   "mimetype": "text/x-python",
   "name": "python",
   "nbconvert_exporter": "python",
   "pygments_lexer": "ipython3",
   "version": "3.13.0"
  }
 },
 "nbformat": 4,
 "nbformat_minor": 2
}
