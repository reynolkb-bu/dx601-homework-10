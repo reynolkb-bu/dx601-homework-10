{
 "cells": [
  {
   "cell_type": "markdown",
   "metadata": {},
   "source": [
    "# DX 601 Week 10 Homework"
   ]
  },
  {
   "cell_type": "markdown",
   "metadata": {},
   "source": [
    "## Introduction\n",
    "\n",
    "In this homework, you will practice basic operations with matrices."
   ]
  },
  {
   "cell_type": "markdown",
   "metadata": {},
   "source": [
    "## Example Code\n",
    "\n",
    "You may find it helpful to refer to this GitHub repository of Jupyter notebooks for example code.\n",
    "\n",
    "* https://github.com/bu-cds-omds/dx500-examples\n",
    "* https://github.com/bu-cds-omds/dx601-examples\n",
    "* https://github.com/bu-cds-omds/dx602-examples\n",
    "\n",
    "Any calculations demonstrated in code examples or videos may be found in these notebooks, and you are allowed to copy this example code in your homework answers."
   ]
  },
  {
   "cell_type": "markdown",
   "metadata": {},
   "source": [
    "## Shared Imports\n",
    "\n",
    "Do not install or use any additional modules.\n",
    "Installing additional modules may result in an autograder failure resulting in zero points for some or all problems."
   ]
  },
  {
   "cell_type": "code",
   "metadata": {
    "ExecuteTime": {
     "end_time": "2025-11-01T16:28:02.294436Z",
     "start_time": "2025-11-01T16:28:02.292442Z"
    }
   },
   "source": [
    "import math\n",
    "import sys"
   ],
   "outputs": [],
   "execution_count": 3
  },
  {
   "cell_type": "code",
   "metadata": {
    "ExecuteTime": {
     "end_time": "2025-11-01T16:28:04.321788Z",
     "start_time": "2025-11-01T16:28:03.353914Z"
    }
   },
   "source": [
    "import matplotlib.pyplot as plt\n",
    "import numpy as np\n",
    "import pandas as pd"
   ],
   "outputs": [],
   "execution_count": 4
  },
  {
   "cell_type": "markdown",
   "metadata": {},
   "source": [
    "## Problems"
   ]
  },
  {
   "cell_type": "markdown",
   "metadata": {},
   "source": [
    "### Problem 1\n",
    "\n",
    "Set `p1` to the trace of the matrix\n",
    "\\begin{bmatrix}\n",
    "1 & 5 & 2 \\\\\n",
    "-7 & 9 & 8 \\\\\n",
    "3 & 2 & 6 \\\\\n",
    "\\end{bmatrix}\n"
   ]
  },
  {
   "cell_type": "code",
   "metadata": {
    "ExecuteTime": {
     "end_time": "2025-10-24T16:57:50.894636Z",
     "start_time": "2025-10-24T16:57:50.892415Z"
    }
   },
   "source": [
    "# YOUR CHANGES HERE\n",
    "\n",
    "arr = np.array([[1, 5, 2],\n",
    "                [-7, 9, 8],\n",
    "                [3, 2, 6]])\n",
    "\n",
    "p1 = np.trace(arr)"
   ],
   "outputs": [],
   "execution_count": 8
  },
  {
   "cell_type": "code",
   "metadata": {
    "ExecuteTime": {
     "end_time": "2025-10-24T16:57:51.935726Z",
     "start_time": "2025-10-24T16:57:51.933267Z"
    }
   },
   "source": [
    "p1"
   ],
   "outputs": [
    {
     "data": {
      "text/plain": [
       "np.int64(16)"
      ]
     },
     "execution_count": 9,
     "metadata": {},
     "output_type": "execute_result"
    }
   ],
   "execution_count": 9
  },
  {
   "cell_type": "markdown",
   "metadata": {},
   "source": [
    "### Problem 2\n",
    "\n",
    "Set `p2` to the transpose of the matrix\n",
    "\n",
    "\\begin{bmatrix}\n",
    "4 & 2 & 7 \\\\\n",
    "8 & 5 & 1 \\\\\n",
    "2 & 6 & 3 \\\\\n",
    "\\end{bmatrix}\n"
   ]
  },
  {
   "cell_type": "code",
   "metadata": {
    "ExecuteTime": {
     "end_time": "2025-10-24T16:58:30.885159Z",
     "start_time": "2025-10-24T16:58:30.883257Z"
    }
   },
   "source": [
    "# YOUR CHANGES HERE\n",
    "\n",
    "arr = np.array([[4, 2, 7],\n",
    "                [8, 5, 1],\n",
    "                [2, 6, 3]])\n",
    "\n",
    "p2 = np.transpose(arr)"
   ],
   "outputs": [],
   "execution_count": 10
  },
  {
   "cell_type": "code",
   "metadata": {
    "ExecuteTime": {
     "end_time": "2025-10-24T16:58:32.110435Z",
     "start_time": "2025-10-24T16:58:32.107571Z"
    }
   },
   "source": [
    "p2"
   ],
   "outputs": [
    {
     "data": {
      "text/plain": [
       "array([[4, 8, 2],\n",
       "       [2, 5, 6],\n",
       "       [7, 1, 3]])"
      ]
     },
     "execution_count": 11,
     "metadata": {},
     "output_type": "execute_result"
    }
   ],
   "execution_count": 11
  },
  {
   "cell_type": "markdown",
   "metadata": {},
   "source": [
    "### Problem 3\n",
    "\n",
    "Set `p3` to be the transpose of `q3`.\n"
   ]
  },
  {
   "cell_type": "code",
   "metadata": {
    "ExecuteTime": {
     "end_time": "2025-10-24T16:58:50.970338Z",
     "start_time": "2025-10-24T16:58:50.966896Z"
    }
   },
   "source": [
    "# DO NOT CHANGE\n",
    "\n",
    "q3 = np.array([[-0.01360112, -1.46500812, -0.27692561, -0.42310394, -1.08916478],\n",
    "       [-0.92981147, -1.33763129, -0.60155956,  1.20761548,  0.84523834],\n",
    "       [-0.7357686 , -0.17268799,  0.88596177, -0.98521575, -1.15429029],\n",
    "       [-0.98100767, -0.16181207,  0.52053393,  0.74956931, -2.0668364 ],\n",
    "       [-0.55031032, -0.96781023,  0.2562466 ,  1.05642169, -0.48648003]])\n",
    "q3"
   ],
   "outputs": [
    {
     "data": {
      "text/plain": [
       "array([[-0.01360112, -1.46500812, -0.27692561, -0.42310394, -1.08916478],\n",
       "       [-0.92981147, -1.33763129, -0.60155956,  1.20761548,  0.84523834],\n",
       "       [-0.7357686 , -0.17268799,  0.88596177, -0.98521575, -1.15429029],\n",
       "       [-0.98100767, -0.16181207,  0.52053393,  0.74956931, -2.0668364 ],\n",
       "       [-0.55031032, -0.96781023,  0.2562466 ,  1.05642169, -0.48648003]])"
      ]
     },
     "execution_count": 12,
     "metadata": {},
     "output_type": "execute_result"
    }
   ],
   "execution_count": 12
  },
  {
   "cell_type": "markdown",
   "metadata": {},
   "source": [
    "Hint: NumPy has a few ways to do this trivially.\n",
    "You can look them up faster than typing in this matrix or its transpose."
   ]
  },
  {
   "cell_type": "code",
   "metadata": {
    "ExecuteTime": {
     "end_time": "2025-10-24T16:59:08.891564Z",
     "start_time": "2025-10-24T16:59:08.890045Z"
    }
   },
   "source": [
    "# YOUR CHANGES HERE\n",
    "\n",
    "p3 = np.transpose(q3)"
   ],
   "outputs": [],
   "execution_count": 13
  },
  {
   "cell_type": "code",
   "metadata": {
    "ExecuteTime": {
     "end_time": "2025-10-24T16:59:09.965352Z",
     "start_time": "2025-10-24T16:59:09.962967Z"
    }
   },
   "source": [
    "p3"
   ],
   "outputs": [
    {
     "data": {
      "text/plain": [
       "array([[-0.01360112, -0.92981147, -0.7357686 , -0.98100767, -0.55031032],\n",
       "       [-1.46500812, -1.33763129, -0.17268799, -0.16181207, -0.96781023],\n",
       "       [-0.27692561, -0.60155956,  0.88596177,  0.52053393,  0.2562466 ],\n",
       "       [-0.42310394,  1.20761548, -0.98521575,  0.74956931,  1.05642169],\n",
       "       [-1.08916478,  0.84523834, -1.15429029, -2.0668364 , -0.48648003]])"
      ]
     },
     "execution_count": 14,
     "metadata": {},
     "output_type": "execute_result"
    }
   ],
   "execution_count": 14
  },
  {
   "cell_type": "markdown",
   "metadata": {},
   "source": [
    "### Problem 4\n",
    "\n",
    "Write a function `p4` that returns `True` if an input matrix is symmetric and `False` otherwise."
   ]
  },
  {
   "cell_type": "markdown",
   "metadata": {},
   "source": [
    "Hint: NumPy has a function [`np.array_equal`](https://numpy.org/doc/stable/reference/generated/numpy.array_equal.html) that will make this easier."
   ]
  },
  {
   "cell_type": "code",
   "metadata": {
    "ExecuteTime": {
     "end_time": "2025-10-24T17:10:53.610164Z",
     "start_time": "2025-10-24T17:10:53.608093Z"
    }
   },
   "source": [
    "# YOUR CHANGES HERE\n",
    "\n",
    "def p4(m):\n",
    "    arr_transpose = np.transpose(m)\n",
    "    return np.array_equal(m, arr_transpose)"
   ],
   "outputs": [],
   "execution_count": 19
  },
  {
   "cell_type": "code",
   "metadata": {
    "ExecuteTime": {
     "end_time": "2025-10-24T17:10:54.430263Z",
     "start_time": "2025-10-24T17:10:54.427830Z"
    }
   },
   "source": [
    "# should return true\n",
    "p4(np.array([[1, 0], [0, 1]]))"
   ],
   "outputs": [
    {
     "data": {
      "text/plain": [
       "True"
      ]
     },
     "execution_count": 20,
     "metadata": {},
     "output_type": "execute_result"
    }
   ],
   "execution_count": 20
  },
  {
   "cell_type": "code",
   "metadata": {
    "ExecuteTime": {
     "end_time": "2025-10-24T17:10:55.342347Z",
     "start_time": "2025-10-24T17:10:55.339734Z"
    }
   },
   "source": [
    "# should return false\n",
    "p4(np.array([[1, 2], [3, 4]]))"
   ],
   "outputs": [
    {
     "data": {
      "text/plain": [
       "False"
      ]
     },
     "execution_count": 21,
     "metadata": {},
     "output_type": "execute_result"
    }
   ],
   "execution_count": 21
  },
  {
   "cell_type": "markdown",
   "metadata": {},
   "source": [
    "### Problem 5\n",
    "\n",
    "Set `p5` to $3x + 2y$ where $x$ and $y$ are respectively in `x5` and `y5`.\n"
   ]
  },
  {
   "cell_type": "code",
   "metadata": {
    "ExecuteTime": {
     "end_time": "2025-10-25T17:19:19.048856Z",
     "start_time": "2025-10-25T17:19:19.045734Z"
    }
   },
   "source": [
    "# DO NOT CHANGE\n",
    "\n",
    "x5 = np.array([[-0.24389677, -0.26830261, -0.9870142 ,  1.23274779,  0.00824161],\n",
    "       [ 0.33685162,  0.50438823,  0.50953501,  1.06299757,  0.47553274],\n",
    "       [-0.06979652,  0.88705427,  0.06441108, -0.36479521,  2.14335222],\n",
    "       [ 0.20775683,  0.96549669,  0.89559484,  1.36015926,  0.21595356],\n",
    "       [ 1.42545495,  1.1969253 ,  0.84640923,  1.79356692, -1.83408336]])\n",
    "x5"
   ],
   "outputs": [
    {
     "data": {
      "text/plain": [
       "array([[-0.24389677, -0.26830261, -0.9870142 ,  1.23274779,  0.00824161],\n",
       "       [ 0.33685162,  0.50438823,  0.50953501,  1.06299757,  0.47553274],\n",
       "       [-0.06979652,  0.88705427,  0.06441108, -0.36479521,  2.14335222],\n",
       "       [ 0.20775683,  0.96549669,  0.89559484,  1.36015926,  0.21595356],\n",
       "       [ 1.42545495,  1.1969253 ,  0.84640923,  1.79356692, -1.83408336]])"
      ]
     },
     "execution_count": 24,
     "metadata": {},
     "output_type": "execute_result"
    }
   ],
   "execution_count": 24
  },
  {
   "cell_type": "code",
   "metadata": {
    "ExecuteTime": {
     "end_time": "2025-10-25T17:19:20.405042Z",
     "start_time": "2025-10-25T17:19:20.402027Z"
    }
   },
   "source": [
    "# DO NOT CHANGE\n",
    "\n",
    "y5 = np.array([[ 1.46994671, -0.05535155,  0.1809549 ,  0.09982112,  0.72415382],\n",
    "       [-0.43302509,  0.28419608,  1.43481809,  0.19801696,  0.22396864],\n",
    "       [-1.21475138,  0.60960865,  0.90861035,  0.25103477,  0.57198302],\n",
    "       [-1.21089702,  0.17419828,  0.04772397, -0.97154458, -0.74168603],\n",
    "       [-2.05435996,  0.00357587, -0.31438553, -0.52754128,  0.35035861]])\n",
    "y5"
   ],
   "outputs": [
    {
     "data": {
      "text/plain": [
       "array([[ 1.46994671, -0.05535155,  0.1809549 ,  0.09982112,  0.72415382],\n",
       "       [-0.43302509,  0.28419608,  1.43481809,  0.19801696,  0.22396864],\n",
       "       [-1.21475138,  0.60960865,  0.90861035,  0.25103477,  0.57198302],\n",
       "       [-1.21089702,  0.17419828,  0.04772397, -0.97154458, -0.74168603],\n",
       "       [-2.05435996,  0.00357587, -0.31438553, -0.52754128,  0.35035861]])"
      ]
     },
     "execution_count": 25,
     "metadata": {},
     "output_type": "execute_result"
    }
   ],
   "execution_count": 25
  },
  {
   "cell_type": "code",
   "metadata": {
    "ExecuteTime": {
     "end_time": "2025-10-25T17:21:07.867245Z",
     "start_time": "2025-10-25T17:21:07.865724Z"
    }
   },
   "source": [
    "# YOUR CHANGES HERE\n",
    "\n",
    "p5 = 3*x5 + 2*y5"
   ],
   "outputs": [],
   "execution_count": 26
  },
  {
   "cell_type": "code",
   "metadata": {
    "ExecuteTime": {
     "end_time": "2025-10-25T17:21:08.962223Z",
     "start_time": "2025-10-25T17:21:08.959683Z"
    }
   },
   "source": [
    "p5"
   ],
   "outputs": [
    {
     "data": {
      "text/plain": [
       "array([[ 2.20820311, -0.91561093, -2.5991328 ,  3.89788561,  1.47303247],\n",
       "       [ 0.14450468,  2.08155685,  4.39824121,  3.58502663,  1.8745355 ],\n",
       "       [-2.63889232,  3.88038011,  2.01045394, -0.59231609,  7.5740227 ],\n",
       "       [-1.79852355,  3.24488663,  2.78223246,  2.13738862, -0.83551138],\n",
       "       [ 0.16764493,  3.59792764,  1.91045663,  4.3256182 , -4.80153286]])"
      ]
     },
     "execution_count": 27,
     "metadata": {},
     "output_type": "execute_result"
    }
   ],
   "execution_count": 27
  },
  {
   "cell_type": "markdown",
   "metadata": {},
   "source": [
    "### Problem 6\n",
    "\n",
    "Set `p6` to the result of the matrix multiplication\n",
    "$\\begin{bmatrix}\n",
    "1 & 3 \\\\\n",
    "2 & 0 \\\\\n",
    "\\end{bmatrix}\n",
    "\\begin{bmatrix}\n",
    "0 & 3 \\\\\n",
    "2 & -1 \\\\\n",
    "\\end{bmatrix}$\n"
   ]
  },
  {
   "cell_type": "code",
   "metadata": {
    "ExecuteTime": {
     "end_time": "2025-10-25T17:22:57.330930Z",
     "start_time": "2025-10-25T17:22:57.329008Z"
    }
   },
   "source": [
    "# YOUR CHANGES HERE\n",
    "\n",
    "arr_1 = np.array([[1, 3],\n",
    "                 [2, 0]])\n",
    "\n",
    "arr_2 = np.array([[0, 3],\n",
    "                 [2, -1]])\n",
    "\n",
    "p6 = arr_1 @ arr_2"
   ],
   "outputs": [],
   "execution_count": 29
  },
  {
   "cell_type": "code",
   "metadata": {
    "ExecuteTime": {
     "end_time": "2025-10-25T17:22:58.849267Z",
     "start_time": "2025-10-25T17:22:58.846908Z"
    }
   },
   "source": [
    "p6"
   ],
   "outputs": [
    {
     "data": {
      "text/plain": [
       "array([[6, 0],\n",
       "       [0, 6]])"
      ]
     },
     "execution_count": 30,
     "metadata": {},
     "output_type": "execute_result"
    }
   ],
   "execution_count": 30
  },
  {
   "cell_type": "markdown",
   "metadata": {},
   "source": [
    "### Problem 7\n",
    "\n",
    "Set `p7` to be the result of multiplying the matrices in `x7` and `y7`."
   ]
  },
  {
   "cell_type": "markdown",
   "metadata": {},
   "source": [
    "Hint: use NumPy's matrix multiplication functionality."
   ]
  },
  {
   "cell_type": "code",
   "metadata": {
    "ExecuteTime": {
     "end_time": "2025-10-25T17:23:07.737999Z",
     "start_time": "2025-10-25T17:23:07.734627Z"
    }
   },
   "source": [
    "# DO NOT CHANGE\n",
    "\n",
    "x7 = np.array([[ 1.12510969, -0.68403506,  1.106613  ,  0.26977997,  1.31003595],\n",
    "       [-2.46789639, -0.631568  , -0.40459478, -0.44276999,  0.35342956],\n",
    "       [ 0.08847366,  1.04391453, -2.06768109, -1.59304958, -1.45124381],\n",
    "       [-0.31574675,  0.47213461,  0.01544427, -1.00203016,  0.30260759],\n",
    "       [-0.18144407,  0.55210749, -0.96200836,  0.77615041, -0.82085057]])\n",
    "x7"
   ],
   "outputs": [
    {
     "data": {
      "text/plain": [
       "array([[ 1.12510969, -0.68403506,  1.106613  ,  0.26977997,  1.31003595],\n",
       "       [-2.46789639, -0.631568  , -0.40459478, -0.44276999,  0.35342956],\n",
       "       [ 0.08847366,  1.04391453, -2.06768109, -1.59304958, -1.45124381],\n",
       "       [-0.31574675,  0.47213461,  0.01544427, -1.00203016,  0.30260759],\n",
       "       [-0.18144407,  0.55210749, -0.96200836,  0.77615041, -0.82085057]])"
      ]
     },
     "execution_count": 31,
     "metadata": {},
     "output_type": "execute_result"
    }
   ],
   "execution_count": 31
  },
  {
   "cell_type": "code",
   "metadata": {
    "ExecuteTime": {
     "end_time": "2025-10-25T17:23:09.531338Z",
     "start_time": "2025-10-25T17:23:09.528314Z"
    }
   },
   "source": [
    "# DO NOT CHANGE\n",
    "\n",
    "y7 = np.array([[-0.53240175,  0.59279203,  0.19610132,  0.31489693,  1.31591487],\n",
    "       [ 0.90107926,  0.01106459,  0.4695847 ,  0.21402271,  0.48587671],\n",
    "       [-0.31841096,  1.08388531,  0.05264241, -0.3044392 ,  1.34193777],\n",
    "       [-0.56276555, -0.71220132, -0.99487118,  0.66883629,  0.49585603],\n",
    "       [-0.01016394, -2.2580422 , -2.72960502, -0.33287333, -0.34948483]])\n",
    "y7"
   ],
   "outputs": [
    {
     "data": {
      "text/plain": [
       "array([[-0.53240175,  0.59279203,  0.19610132,  0.31489693,  1.31591487],\n",
       "       [ 0.90107926,  0.01106459,  0.4695847 ,  0.21402271,  0.48587671],\n",
       "       [-0.31841096,  1.08388531,  0.05264241, -0.3044392 ,  1.34193777],\n",
       "       [-0.56276555, -0.71220132, -0.99487118,  0.66883629,  0.49585603],\n",
       "       [-0.01016394, -2.2580422 , -2.72960502, -0.33287333, -0.34948483]])"
      ]
     },
     "execution_count": 32,
     "metadata": {},
     "output_type": "execute_result"
    }
   ],
   "execution_count": 32
  },
  {
   "cell_type": "code",
   "metadata": {
    "ExecuteTime": {
     "end_time": "2025-10-25T17:25:38.140092Z",
     "start_time": "2025-10-25T17:25:38.138333Z"
    }
   },
   "source": [
    "# YOUR CHANGES HERE\n",
    "\n",
    "p7 = x7 @ y7"
   ],
   "outputs": [],
   "execution_count": 33
  },
  {
   "cell_type": "code",
   "metadata": {
    "ExecuteTime": {
     "end_time": "2025-10-25T17:25:39.728814Z",
     "start_time": "2025-10-25T17:25:39.726439Z"
    }
   },
   "source": [
    "p7"
   ],
   "outputs": [
    {
     "data": {
      "text/plain": [
       "array([[-1.73287588, -1.29142505, -3.88659915, -0.38463922,  2.30913198],\n",
       "       [ 1.1192304 , -2.39118918, -1.32605525, -1.20291629, -4.4404152 ],\n",
       "       [ 2.4631823 ,  2.23440959,  5.94490988,  0.29835567, -2.43379733],\n",
       "       [ 1.14944957, -0.13486187,  0.33149359, -0.77400613, -0.76799084],\n",
       "       [ 0.47196012,  0.1565834 ,  1.64146553,  1.14625724, -0.58973045]])"
      ]
     },
     "execution_count": 34,
     "metadata": {},
     "output_type": "execute_result"
    }
   ],
   "execution_count": 34
  },
  {
   "cell_type": "markdown",
   "metadata": {},
   "source": [
    "### Problem 8\n",
    "\n",
    "Set `p8` to the result of the matrix-vector multiplication\n",
    "$\\begin{bmatrix}\n",
    "1 & 3 \\\\\n",
    "4 & 0 \\\\\n",
    "\\end{bmatrix}\n",
    "\\begin{bmatrix}\n",
    "1 \\\\\n",
    "2 \\\\\n",
    "\\end{bmatrix}$."
   ]
  },
  {
   "cell_type": "code",
   "metadata": {
    "ExecuteTime": {
     "end_time": "2025-10-25T17:28:52.576490Z",
     "start_time": "2025-10-25T17:28:52.574318Z"
    }
   },
   "source": [
    "# YOUR CHANGES HERE\n",
    "\n",
    "arr_1 = np.array([[1, 3],\n",
    "                  [4, 0]])\n",
    "\n",
    "arr_2 = np.array([[1],\n",
    "                  [2]])\n",
    "\n",
    "p8 = arr_1 @ arr_2"
   ],
   "outputs": [],
   "execution_count": 35
  },
  {
   "cell_type": "code",
   "metadata": {
    "ExecuteTime": {
     "end_time": "2025-10-25T17:28:53.792470Z",
     "start_time": "2025-10-25T17:28:53.789774Z"
    }
   },
   "source": [
    "p8"
   ],
   "outputs": [
    {
     "data": {
      "text/plain": [
       "array([[7],\n",
       "       [4]])"
      ]
     },
     "execution_count": 36,
     "metadata": {},
     "output_type": "execute_result"
    }
   ],
   "execution_count": 36
  },
  {
   "cell_type": "markdown",
   "metadata": {},
   "source": [
    "### Problem 9\n",
    "\n",
    "Set `p9` to be the result of matrix multiplication on `components9` and `materials9`.\n"
   ]
  },
  {
   "cell_type": "markdown",
   "metadata": {},
   "source": [
    "Hint: even though these are data frames, you can still multiply them with the @ operator as if they were NumPy arrays, but the indexes and column names will be preserved."
   ]
  },
  {
   "cell_type": "code",
   "metadata": {
    "ExecuteTime": {
     "end_time": "2025-10-25T17:32:27.544879Z",
     "start_time": "2025-10-25T17:32:27.537971Z"
    }
   },
   "source": [
    "# DO NOT CHANGE\n",
    "\n",
    "components9 = pd.DataFrame(index=[\"robot\", \"cart\", \"vacuum\"],\n",
    "                           data={\"gears\": [4, 1, 2], \"wires\": [2, 1, 3], \"leds\": [5, 2, 1]})\n",
    "components9"
   ],
   "outputs": [
    {
     "data": {
      "text/plain": [
       "        gears  wires  leds\n",
       "robot       4      2     5\n",
       "cart        1      1     2\n",
       "vacuum      2      3     1"
      ],
      "text/html": [
       "<div>\n",
       "<style scoped>\n",
       "    .dataframe tbody tr th:only-of-type {\n",
       "        vertical-align: middle;\n",
       "    }\n",
       "\n",
       "    .dataframe tbody tr th {\n",
       "        vertical-align: top;\n",
       "    }\n",
       "\n",
       "    .dataframe thead th {\n",
       "        text-align: right;\n",
       "    }\n",
       "</style>\n",
       "<table border=\"1\" class=\"dataframe\">\n",
       "  <thead>\n",
       "    <tr style=\"text-align: right;\">\n",
       "      <th></th>\n",
       "      <th>gears</th>\n",
       "      <th>wires</th>\n",
       "      <th>leds</th>\n",
       "    </tr>\n",
       "  </thead>\n",
       "  <tbody>\n",
       "    <tr>\n",
       "      <th>robot</th>\n",
       "      <td>4</td>\n",
       "      <td>2</td>\n",
       "      <td>5</td>\n",
       "    </tr>\n",
       "    <tr>\n",
       "      <th>cart</th>\n",
       "      <td>1</td>\n",
       "      <td>1</td>\n",
       "      <td>2</td>\n",
       "    </tr>\n",
       "    <tr>\n",
       "      <th>vacuum</th>\n",
       "      <td>2</td>\n",
       "      <td>3</td>\n",
       "      <td>1</td>\n",
       "    </tr>\n",
       "  </tbody>\n",
       "</table>\n",
       "</div>"
      ]
     },
     "execution_count": 37,
     "metadata": {},
     "output_type": "execute_result"
    }
   ],
   "execution_count": 37
  },
  {
   "cell_type": "code",
   "metadata": {
    "ExecuteTime": {
     "end_time": "2025-10-25T17:32:29.124087Z",
     "start_time": "2025-10-25T17:32:29.119475Z"
    }
   },
   "source": [
    "# DO NOT CHANGE\n",
    "\n",
    "materials9 = pd.DataFrame(index=[\"gears\", \"wires\", \"leds\"],\n",
    "                          data={\"metal\": [1, 0.2, 0.01], \"plastic\": [1, 0.4, 0.02]})\n",
    "materials9"
   ],
   "outputs": [
    {
     "data": {
      "text/plain": [
       "       metal  plastic\n",
       "gears   1.00     1.00\n",
       "wires   0.20     0.40\n",
       "leds    0.01     0.02"
      ],
      "text/html": [
       "<div>\n",
       "<style scoped>\n",
       "    .dataframe tbody tr th:only-of-type {\n",
       "        vertical-align: middle;\n",
       "    }\n",
       "\n",
       "    .dataframe tbody tr th {\n",
       "        vertical-align: top;\n",
       "    }\n",
       "\n",
       "    .dataframe thead th {\n",
       "        text-align: right;\n",
       "    }\n",
       "</style>\n",
       "<table border=\"1\" class=\"dataframe\">\n",
       "  <thead>\n",
       "    <tr style=\"text-align: right;\">\n",
       "      <th></th>\n",
       "      <th>metal</th>\n",
       "      <th>plastic</th>\n",
       "    </tr>\n",
       "  </thead>\n",
       "  <tbody>\n",
       "    <tr>\n",
       "      <th>gears</th>\n",
       "      <td>1.00</td>\n",
       "      <td>1.00</td>\n",
       "    </tr>\n",
       "    <tr>\n",
       "      <th>wires</th>\n",
       "      <td>0.20</td>\n",
       "      <td>0.40</td>\n",
       "    </tr>\n",
       "    <tr>\n",
       "      <th>leds</th>\n",
       "      <td>0.01</td>\n",
       "      <td>0.02</td>\n",
       "    </tr>\n",
       "  </tbody>\n",
       "</table>\n",
       "</div>"
      ]
     },
     "execution_count": 38,
     "metadata": {},
     "output_type": "execute_result"
    }
   ],
   "execution_count": 38
  },
  {
   "cell_type": "code",
   "metadata": {
    "ExecuteTime": {
     "end_time": "2025-10-25T17:32:37.448732Z",
     "start_time": "2025-10-25T17:32:37.446321Z"
    }
   },
   "source": [
    "# YOUR CHANGES HERE\n",
    "\n",
    "p9 = components9 @ materials9"
   ],
   "outputs": [],
   "execution_count": 39
  },
  {
   "cell_type": "code",
   "metadata": {
    "ExecuteTime": {
     "end_time": "2025-10-25T17:32:38.694434Z",
     "start_time": "2025-10-25T17:32:38.690277Z"
    }
   },
   "source": [
    "p9"
   ],
   "outputs": [
    {
     "data": {
      "text/plain": [
       "        metal  plastic\n",
       "robot    4.45     4.90\n",
       "cart     1.22     1.44\n",
       "vacuum   2.61     3.22"
      ],
      "text/html": [
       "<div>\n",
       "<style scoped>\n",
       "    .dataframe tbody tr th:only-of-type {\n",
       "        vertical-align: middle;\n",
       "    }\n",
       "\n",
       "    .dataframe tbody tr th {\n",
       "        vertical-align: top;\n",
       "    }\n",
       "\n",
       "    .dataframe thead th {\n",
       "        text-align: right;\n",
       "    }\n",
       "</style>\n",
       "<table border=\"1\" class=\"dataframe\">\n",
       "  <thead>\n",
       "    <tr style=\"text-align: right;\">\n",
       "      <th></th>\n",
       "      <th>metal</th>\n",
       "      <th>plastic</th>\n",
       "    </tr>\n",
       "  </thead>\n",
       "  <tbody>\n",
       "    <tr>\n",
       "      <th>robot</th>\n",
       "      <td>4.45</td>\n",
       "      <td>4.90</td>\n",
       "    </tr>\n",
       "    <tr>\n",
       "      <th>cart</th>\n",
       "      <td>1.22</td>\n",
       "      <td>1.44</td>\n",
       "    </tr>\n",
       "    <tr>\n",
       "      <th>vacuum</th>\n",
       "      <td>2.61</td>\n",
       "      <td>3.22</td>\n",
       "    </tr>\n",
       "  </tbody>\n",
       "</table>\n",
       "</div>"
      ]
     },
     "execution_count": 40,
     "metadata": {},
     "output_type": "execute_result"
    }
   ],
   "execution_count": 40
  },
  {
   "cell_type": "markdown",
   "metadata": {},
   "source": [
    "### Problem 10\n",
    "\n",
    "The variable `q10` has the transition probabilities for a trivial weather model based on Markov chains.\n",
    "Set `p10` to be the steady state probabilities of each weather condition under this model."
   ]
  },
  {
   "cell_type": "code",
   "metadata": {
    "ExecuteTime": {
     "end_time": "2025-10-25T17:33:20.721531Z",
     "start_time": "2025-10-25T17:33:20.717260Z"
    }
   },
   "source": [
    "# DO NOT CHANGE\n",
    "\n",
    "q10 = pd.DataFrame(index=[\"sun\", \"cloudy\", \"rainy\"],\n",
    "                   data={\"sun\": [0.8, 0.1, 0.1],\n",
    "                         \"cloudy\": [0.1, 0.5, 0.2],\n",
    "                         \"rainy\": [0.1, 0.4, 0.7]})\n",
    "q10"
   ],
   "outputs": [
    {
     "data": {
      "text/plain": [
       "        sun  cloudy  rainy\n",
       "sun     0.8     0.1    0.1\n",
       "cloudy  0.1     0.5    0.4\n",
       "rainy   0.1     0.2    0.7"
      ],
      "text/html": [
       "<div>\n",
       "<style scoped>\n",
       "    .dataframe tbody tr th:only-of-type {\n",
       "        vertical-align: middle;\n",
       "    }\n",
       "\n",
       "    .dataframe tbody tr th {\n",
       "        vertical-align: top;\n",
       "    }\n",
       "\n",
       "    .dataframe thead th {\n",
       "        text-align: right;\n",
       "    }\n",
       "</style>\n",
       "<table border=\"1\" class=\"dataframe\">\n",
       "  <thead>\n",
       "    <tr style=\"text-align: right;\">\n",
       "      <th></th>\n",
       "      <th>sun</th>\n",
       "      <th>cloudy</th>\n",
       "      <th>rainy</th>\n",
       "    </tr>\n",
       "  </thead>\n",
       "  <tbody>\n",
       "    <tr>\n",
       "      <th>sun</th>\n",
       "      <td>0.8</td>\n",
       "      <td>0.1</td>\n",
       "      <td>0.1</td>\n",
       "    </tr>\n",
       "    <tr>\n",
       "      <th>cloudy</th>\n",
       "      <td>0.1</td>\n",
       "      <td>0.5</td>\n",
       "      <td>0.4</td>\n",
       "    </tr>\n",
       "    <tr>\n",
       "      <th>rainy</th>\n",
       "      <td>0.1</td>\n",
       "      <td>0.2</td>\n",
       "      <td>0.7</td>\n",
       "    </tr>\n",
       "  </tbody>\n",
       "</table>\n",
       "</div>"
      ]
     },
     "execution_count": 41,
     "metadata": {},
     "output_type": "execute_result"
    }
   ],
   "execution_count": 41
  },
  {
   "cell_type": "code",
   "metadata": {
    "ExecuteTime": {
     "end_time": "2025-10-25T18:38:45.665896Z",
     "start_time": "2025-10-25T18:38:45.663537Z"
    }
   },
   "source": [
    "# YOUR CHANGES HERE\n",
    "\n",
    "def steady_state_linear(P):\n",
    "    n = P.shape[0]\n",
    "    A = P.T - np.eye(n)\n",
    "    A[-1] = np.ones(n)\n",
    "    b = np.zeros(n)\n",
    "    b[-1] = 1\n",
    "    return np.linalg.solve(A, b)\n",
    "\n",
    "steady_state_prob = steady_state_linear(q10.values)\n",
    "\n",
    "p10 = steady_state_prob"
   ],
   "outputs": [],
   "execution_count": 48
  },
  {
   "cell_type": "code",
   "metadata": {
    "ExecuteTime": {
     "end_time": "2025-10-25T18:38:46.982233Z",
     "start_time": "2025-10-25T18:38:46.979277Z"
    }
   },
   "source": [
    "p10"
   ],
   "outputs": [
    {
     "data": {
      "text/plain": [
       "array([0.33333333, 0.23809524, 0.42857143])"
      ]
     },
     "execution_count": 49,
     "metadata": {},
     "output_type": "execute_result"
    }
   ],
   "execution_count": 49
  },
  {
   "cell_type": "markdown",
   "metadata": {},
   "source": [
    "### Problem 11\n",
    "\n",
    "The vector `v11` below is an eigenvector of the matrix `q11`.\n",
    "Set `p11` to the eigenvalue corresponding to `v11`."
   ]
  },
  {
   "cell_type": "code",
   "metadata": {
    "ExecuteTime": {
     "end_time": "2025-10-25T18:39:01.413717Z",
     "start_time": "2025-10-25T18:39:01.410709Z"
    }
   },
   "source": [
    "# DO NOT CHANGE\n",
    "\n",
    "q11 = np.array([[1, 2], [2, 4]])\n",
    "q11"
   ],
   "outputs": [
    {
     "data": {
      "text/plain": [
       "array([[1, 2],\n",
       "       [2, 4]])"
      ]
     },
     "execution_count": 50,
     "metadata": {},
     "output_type": "execute_result"
    }
   ],
   "execution_count": 50
  },
  {
   "cell_type": "code",
   "metadata": {
    "ExecuteTime": {
     "end_time": "2025-10-25T18:39:03.206585Z",
     "start_time": "2025-10-25T18:39:03.203984Z"
    }
   },
   "source": [
    "# DO NOT CHANGE\n",
    "\n",
    "v11 = np.array([[1], [2]])\n",
    "v11"
   ],
   "outputs": [
    {
     "data": {
      "text/plain": [
       "array([[1],\n",
       "       [2]])"
      ]
     },
     "execution_count": 51,
     "metadata": {},
     "output_type": "execute_result"
    }
   ],
   "execution_count": 51
  },
  {
   "cell_type": "code",
   "metadata": {
    "ExecuteTime": {
     "end_time": "2025-10-25T18:39:10.643700Z",
     "start_time": "2025-10-25T18:39:10.641171Z"
    }
   },
   "source": [
    "# DO NOT CHANGE\n",
    "\n",
    "q11 @ v11"
   ],
   "outputs": [
    {
     "data": {
      "text/plain": [
       "array([[ 5],\n",
       "       [10]])"
      ]
     },
     "execution_count": 52,
     "metadata": {},
     "output_type": "execute_result"
    }
   ],
   "execution_count": 52
  },
  {
   "cell_type": "code",
   "metadata": {
    "ExecuteTime": {
     "end_time": "2025-10-26T15:59:00.687902Z",
     "start_time": "2025-10-26T15:59:00.685826Z"
    }
   },
   "source": [
    "# YOUR CHANGES HERE\n",
    "\n",
    "result = q11 @ v11\n",
    "\n",
    "p11 = result[0, 0] / v11[0, 0]"
   ],
   "outputs": [],
   "execution_count": 60
  },
  {
   "cell_type": "code",
   "metadata": {
    "ExecuteTime": {
     "end_time": "2025-10-26T15:59:01.740122Z",
     "start_time": "2025-10-26T15:59:01.737285Z"
    }
   },
   "source": [
    "p11"
   ],
   "outputs": [
    {
     "data": {
      "text/plain": [
       "np.float64(5.0)"
      ]
     },
     "execution_count": 61,
     "metadata": {},
     "output_type": "execute_result"
    }
   ],
   "execution_count": 61
  },
  {
   "cell_type": "markdown",
   "metadata": {},
   "source": [
    "### Problem 12\n",
    "\n",
    "Set `p12` to the reduced row echelon form of `q12`.\n"
   ]
  },
  {
   "cell_type": "markdown",
   "metadata": {},
   "source": [
    "Hint: just do this on paper instead of looking for a NumPy function."
   ]
  },
  {
   "cell_type": "code",
   "metadata": {
    "ExecuteTime": {
     "end_time": "2025-10-26T21:49:52.354251Z",
     "start_time": "2025-10-26T21:49:52.351252Z"
    }
   },
   "source": [
    "# DO NOT CHANGE\n",
    "\n",
    "q12 = np.array([[1, 0, 1],\n",
    "                [0, 1, 3],\n",
    "                [0, 0, 2]])\n",
    "q12"
   ],
   "outputs": [
    {
     "data": {
      "text/plain": [
       "array([[1, 0, 1],\n",
       "       [0, 1, 3],\n",
       "       [0, 0, 2]])"
      ]
     },
     "execution_count": 67,
     "metadata": {},
     "output_type": "execute_result"
    }
   ],
   "execution_count": 67
  },
  {
   "cell_type": "code",
   "metadata": {
    "ExecuteTime": {
     "end_time": "2025-10-26T21:49:49.818390Z",
     "start_time": "2025-10-26T21:49:49.814833Z"
    }
   },
   "source": [
    "# YOUR CHANGES HERE\n",
    "\n",
    "n = q12.shape[0]\n",
    "col = 0\n",
    "\n",
    "for i in range(n):\n",
    "    if col >= q12.shape[1]:\n",
    "        break\n",
    "\n",
    "    if q12[i, col] != 0:\n",
    "        q12[i] = q12[i] / q12[i, col]\n",
    "\n",
    "    for j in range(n):\n",
    "        if i != j and q12[j, col] != 0:\n",
    "            q12[j] = q12[j] - q12[j, col] * q12[i]\n",
    "\n",
    "    col += 1\n",
    "\n",
    "p12 = q12\n",
    "print(p12)"
   ],
   "outputs": [
    {
     "name": "stdout",
     "output_type": "stream",
     "text": [
      "[[1 0 0]\n",
      " [0 1 0]\n",
      " [0 0 1]]\n"
     ]
    }
   ],
   "execution_count": 66
  },
  {
   "cell_type": "code",
   "metadata": {
    "ExecuteTime": {
     "end_time": "2025-10-26T21:49:54.468433Z",
     "start_time": "2025-10-26T21:49:54.465413Z"
    }
   },
   "source": [
    "p12"
   ],
   "outputs": [
    {
     "data": {
      "text/plain": [
       "array([[1, 0, 0],\n",
       "       [0, 1, 0],\n",
       "       [0, 0, 1]])"
      ]
     },
     "execution_count": 68,
     "metadata": {},
     "output_type": "execute_result"
    }
   ],
   "execution_count": 68
  },
  {
   "cell_type": "markdown",
   "metadata": {},
   "source": [
    "### Problem 13\n",
    "\n",
    "Set `p13` to the reduced row echelon form of `q13`."
   ]
  },
  {
   "cell_type": "markdown",
   "metadata": {},
   "source": [
    "Hint: just do this on paper instead of looking for a NumPy function."
   ]
  },
  {
   "cell_type": "code",
   "metadata": {
    "ExecuteTime": {
     "end_time": "2025-11-01T16:28:11.716444Z",
     "start_time": "2025-11-01T16:28:11.712336Z"
    }
   },
   "source": [
    "# DO NOT CHANGE\n",
    "\n",
    "q13 = np.array([[3, 0, 1], [6, 3, 2], [0, 2, 0]])\n",
    "q13"
   ],
   "outputs": [
    {
     "data": {
      "text/plain": [
       "array([[3, 0, 1],\n",
       "       [6, 3, 2],\n",
       "       [0, 2, 0]])"
      ]
     },
     "execution_count": 5,
     "metadata": {},
     "output_type": "execute_result"
    }
   ],
   "execution_count": 5
  },
  {
   "cell_type": "code",
   "metadata": {
    "ExecuteTime": {
     "end_time": "2025-11-01T16:28:13.088010Z",
     "start_time": "2025-11-01T16:28:13.085445Z"
    }
   },
   "source": [
    "# YOUR CHANGES HERE\n",
    "\n",
    "A = q13.astype(float).copy()\n",
    "n = A.shape[0]\n",
    "col = 0\n",
    "\n",
    "for i in range(n):\n",
    "    if col >= A.shape[1]:\n",
    "        break\n",
    "    if A[i, col] != 0:\n",
    "        A[i] = A[i] / A[i, col]\n",
    "    for j in range(n):\n",
    "        if i != j and A[j, col] != 0:\n",
    "            A[j] = A[j] - A[j, col] * A[i]\n",
    "    col += 1\n",
    "\n",
    "p13 = A"
   ],
   "outputs": [],
   "execution_count": 6
  },
  {
   "cell_type": "code",
   "metadata": {
    "ExecuteTime": {
     "end_time": "2025-11-01T16:28:15.061453Z",
     "start_time": "2025-11-01T16:28:15.059007Z"
    }
   },
   "source": [
    "p13"
   ],
   "outputs": [
    {
     "data": {
      "text/plain": [
       "array([[1.        , 0.        , 0.33333333],\n",
       "       [0.        , 1.        , 0.        ],\n",
       "       [0.        , 0.        , 0.        ]])"
      ]
     },
     "execution_count": 7,
     "metadata": {},
     "output_type": "execute_result"
    }
   ],
   "execution_count": 7
  },
  {
   "cell_type": "markdown",
   "metadata": {},
   "source": [
    "### Problem 14\n",
    "\n",
    "Set `p14` to be the rank of `q14`.\n"
   ]
  },
  {
   "cell_type": "code",
   "metadata": {
    "ExecuteTime": {
     "end_time": "2025-10-26T22:00:38.323320Z",
     "start_time": "2025-10-26T22:00:38.320777Z"
    }
   },
   "source": [
    "# DO NOT CHANGE\n",
    "\n",
    "q14 = np.array([[0, 2, 0], [1, 0, 3], [2, 2, 6]])\n",
    "q14"
   ],
   "outputs": [
    {
     "data": {
      "text/plain": [
       "array([[0, 2, 0],\n",
       "       [1, 0, 3],\n",
       "       [2, 2, 6]])"
      ]
     },
     "execution_count": 72,
     "metadata": {},
     "output_type": "execute_result"
    }
   ],
   "execution_count": 72
  },
  {
   "cell_type": "code",
   "metadata": {
    "ExecuteTime": {
     "end_time": "2025-10-26T22:00:47.701463Z",
     "start_time": "2025-10-26T22:00:47.699758Z"
    }
   },
   "source": [
    "# YOUR CHANGES HERE\n",
    "\n",
    "p14 = np.linalg.matrix_rank(q14)"
   ],
   "outputs": [],
   "execution_count": 74
  },
  {
   "cell_type": "code",
   "metadata": {
    "ExecuteTime": {
     "end_time": "2025-10-26T22:00:49.095899Z",
     "start_time": "2025-10-26T22:00:49.093450Z"
    }
   },
   "source": [
    "p14"
   ],
   "outputs": [
    {
     "data": {
      "text/plain": [
       "np.int64(2)"
      ]
     },
     "execution_count": 75,
     "metadata": {},
     "output_type": "execute_result"
    }
   ],
   "execution_count": 75
  },
  {
   "cell_type": "markdown",
   "metadata": {},
   "source": [
    "### Problem 15\n",
    "\n",
    "Set `p15` to be $\\mathbf{Q}^3$ where $\\mathbf{Q}$ is in `q15`."
   ]
  },
  {
   "cell_type": "code",
   "metadata": {
    "ExecuteTime": {
     "end_time": "2025-10-26T22:01:01.261235Z",
     "start_time": "2025-10-26T22:01:01.258626Z"
    }
   },
   "source": [
    "# DO NOT CHANGE\n",
    "\n",
    "q15 = np.array([[1.0, 0.0, 0.1], [0.0, 1.0, 0.1], [0.1, 0.0, 1.0]])\n",
    "q15"
   ],
   "outputs": [
    {
     "data": {
      "text/plain": [
       "array([[1. , 0. , 0.1],\n",
       "       [0. , 1. , 0.1],\n",
       "       [0.1, 0. , 1. ]])"
      ]
     },
     "execution_count": 76,
     "metadata": {},
     "output_type": "execute_result"
    }
   ],
   "execution_count": 76
  },
  {
   "cell_type": "code",
   "metadata": {
    "ExecuteTime": {
     "end_time": "2025-10-26T22:04:24.056381Z",
     "start_time": "2025-10-26T22:04:24.054601Z"
    }
   },
   "source": [
    "# YOUR CHANGES HERE\n",
    "\n",
    "p15 = np.linalg.matrix_power(q15, 3)"
   ],
   "outputs": [],
   "execution_count": 80
  },
  {
   "cell_type": "code",
   "metadata": {
    "ExecuteTime": {
     "end_time": "2025-10-26T22:04:25.355356Z",
     "start_time": "2025-10-26T22:04:25.352875Z"
    }
   },
   "source": [
    "p15"
   ],
   "outputs": [
    {
     "data": {
      "text/plain": [
       "array([[1.03 , 0.   , 0.301],\n",
       "       [0.03 , 1.   , 0.301],\n",
       "       [0.301, 0.   , 1.03 ]])"
      ]
     },
     "execution_count": 81,
     "metadata": {},
     "output_type": "execute_result"
    }
   ],
   "execution_count": 81
  },
  {
   "cell_type": "markdown",
   "metadata": {},
   "source": [
    "### Problem 16\n",
    "\n",
    "Given the transition matrix for a Markov chain in `q16`, what is the conditional probability of being in state 2 at time step 10 after being in state 0 at time step 0."
   ]
  },
  {
   "cell_type": "markdown",
   "metadata": {},
   "source": [
    "Hint: NumPy has a function [`matrix_power`](https://numpy.org/devdocs/reference/generated/numpy.linalg.matrix_power.html) which will make this easier."
   ]
  },
  {
   "cell_type": "code",
   "metadata": {
    "ExecuteTime": {
     "end_time": "2025-10-26T22:04:55.438981Z",
     "start_time": "2025-10-26T22:04:55.436245Z"
    }
   },
   "source": [
    "# DO NOT CHANGE\n",
    "\n",
    "q16 = np.array([[0.1, 0.3, 0.6], [0.2, 0.5, 0.3], [1.0, 0.0, 0.0]])\n",
    "q16"
   ],
   "outputs": [
    {
     "data": {
      "text/plain": [
       "array([[0.1, 0.3, 0.6],\n",
       "       [0.2, 0.5, 0.3],\n",
       "       [1. , 0. , 0. ]])"
      ]
     },
     "execution_count": 82,
     "metadata": {},
     "output_type": "execute_result"
    }
   ],
   "execution_count": 82
  },
  {
   "cell_type": "code",
   "metadata": {
    "ExecuteTime": {
     "end_time": "2025-10-26T22:21:19.071758Z",
     "start_time": "2025-10-26T22:21:19.069736Z"
    }
   },
   "source": [
    "# YOUR CHANGES HERE\n",
    "\n",
    "n_steps = 10\n",
    "p_10 = np.linalg.matrix_power(q16, n_steps)\n",
    "\n",
    "initial_state_vector = np.array([1, 0, 0])\n",
    "\n",
    "final_state_vector = initial_state_vector @ p_10\n",
    "\n",
    "p16 = final_state_vector[2]"
   ],
   "outputs": [],
   "execution_count": 87
  },
  {
   "cell_type": "code",
   "metadata": {
    "ExecuteTime": {
     "end_time": "2025-10-26T22:21:20.387482Z",
     "start_time": "2025-10-26T22:21:20.385161Z"
    }
   },
   "source": [
    "p16"
   ],
   "outputs": [
    {
     "data": {
      "text/plain": [
       "np.float64(0.3172631450999999)"
      ]
     },
     "execution_count": 88,
     "metadata": {},
     "output_type": "execute_result"
    }
   ],
   "execution_count": 88
  },
  {
   "cell_type": "markdown",
   "metadata": {},
   "source": [
    "### Problem 17\n",
    "\n",
    "Set `p17` to the results of Gaussian elimination on `q17`."
   ]
  },
  {
   "cell_type": "code",
   "metadata": {
    "ExecuteTime": {
     "end_time": "2025-11-01T16:39:27.148060Z",
     "start_time": "2025-11-01T16:39:27.145205Z"
    }
   },
   "source": [
    "# DO NOT CHANGE\n",
    "\n",
    "q17 = np.array([[0.0, 1.0, 0.0, 2.0], [1.0, 0.0, 1.0, 0.0], [1.0, 1.0, 1.0, 2.0], [0.0, 0.0, 0.0, 0.1]])\n",
    "q17"
   ],
   "outputs": [
    {
     "data": {
      "text/plain": [
       "array([[0. , 1. , 0. , 2. ],\n",
       "       [1. , 0. , 1. , 0. ],\n",
       "       [1. , 1. , 1. , 2. ],\n",
       "       [0. , 0. , 0. , 0.1]])"
      ]
     },
     "execution_count": 8,
     "metadata": {},
     "output_type": "execute_result"
    }
   ],
   "execution_count": 8
  },
  {
   "cell_type": "code",
   "metadata": {
    "ExecuteTime": {
     "end_time": "2025-11-01T16:45:05.474528Z",
     "start_time": "2025-11-01T16:45:05.471164Z"
    }
   },
   "source": [
    "# YOUR CHANGES HERE\n",
    "\n",
    "n = q17.shape[0]\n",
    "\n",
    "A = q17.copy()\n",
    "r, nrows, ncols = 0, A.shape[0], A.shape[1]\n",
    "\n",
    "for c in range(ncols):\n",
    "    max_row = r + np.argmax(np.abs(A[r:, c]))\n",
    "    if A[max_row, c] == 0:\n",
    "        continue\n",
    "    A[[r, max_row]] = A[[max_row, r]]\n",
    "\n",
    "    for j in range(r + 1, nrows):\n",
    "        factor = A[j, c] / A[r, c]\n",
    "        A[j] = A[j] - factor * A[r]\n",
    "\n",
    "    r += 1\n",
    "    if r == nrows:\n",
    "        break\n",
    "\n",
    "A = np.where(np.isclose(A, 0.0, atol=1e-12), 0.0, A)\n",
    "\n",
    "print(\"\\nAfter Gaussian elimination:\")\n",
    "print(A)\n",
    "# Output:\n",
    "# [[1.  0.  1.  0. ]\n",
    "#  [0.  1.  0.  2. ]\n",
    "#  [0.  0.  0.  0.1]\n",
    "#  [0.  0.  0.  0. ]]\n",
    "\n",
    "p17 = A"
   ],
   "outputs": [
    {
     "name": "stdout",
     "output_type": "stream",
     "text": [
      "\n",
      "After Gaussian elimination:\n",
      "[[1.  0.  1.  0. ]\n",
      " [0.  1.  0.  2. ]\n",
      " [0.  0.  0.  0.1]\n",
      " [0.  0.  0.  0. ]]\n"
     ]
    }
   ],
   "execution_count": 11
  },
  {
   "cell_type": "code",
   "metadata": {
    "ExecuteTime": {
     "end_time": "2025-11-01T16:45:08.055553Z",
     "start_time": "2025-11-01T16:45:08.053316Z"
    }
   },
   "source": "p17",
   "outputs": [
    {
     "data": {
      "text/plain": [
       "array([[1. , 0. , 1. , 0. ],\n",
       "       [0. , 1. , 0. , 2. ],\n",
       "       [0. , 0. , 0. , 0.1],\n",
       "       [0. , 0. , 0. , 0. ]])"
      ]
     },
     "execution_count": 12,
     "metadata": {},
     "output_type": "execute_result"
    }
   ],
   "execution_count": 12
  },
  {
   "cell_type": "markdown",
   "metadata": {},
   "source": [
    "### Problem 18\n",
    "\n",
    "Set `p18` to be a row vector of two numbers that are coefficients to show that the third row of `q18` is linearly dependent on the first two rows of `q18`."
   ]
  },
  {
   "cell_type": "markdown",
   "metadata": {},
   "source": [
    "Hint: do this by hand instead of in code, and use the tracking trick."
   ]
  },
  {
   "cell_type": "code",
   "metadata": {
    "ExecuteTime": {
     "end_time": "2025-10-27T13:35:20.420629Z",
     "start_time": "2025-10-27T13:35:20.417920Z"
    }
   },
   "source": [
    "# DO NOT CHANGE\n",
    "\n",
    "q18 = np.array([[0.2, 0.5, 0.3], [0.1, 0.1, 0.1], [0.4, 0.7, 0.5]])\n",
    "q18"
   ],
   "outputs": [
    {
     "data": {
      "text/plain": [
       "array([[0.2, 0.5, 0.3],\n",
       "       [0.1, 0.1, 0.1],\n",
       "       [0.4, 0.7, 0.5]])"
      ]
     },
     "execution_count": 99,
     "metadata": {},
     "output_type": "execute_result"
    }
   ],
   "execution_count": 99
  },
  {
   "cell_type": "code",
   "metadata": {
    "ExecuteTime": {
     "end_time": "2025-10-27T13:56:44.104959Z",
     "start_time": "2025-10-27T13:56:44.101946Z"
    }
   },
   "source": [
    "row_1 = np.array([0.2, 0.5, 0.3])\n",
    "row_2 = np.array([0.1, 0.1, 0.1])\n",
    "row_3 = np.array([0.4, 0.7, 0.5])\n",
    "\n",
    "A = np.column_stack((row_1, row_2))\n",
    "results = np.linalg.lstsq(A, row_3, rcond=None)\n",
    "coefficients = results[0]\n",
    "a, b = coefficients[0], coefficients[1]\n",
    "print(a)\n",
    "print(b)\n",
    "\n",
    "p18 = np.array([a, b])"
   ],
   "outputs": [
    {
     "name": "stdout",
     "output_type": "stream",
     "text": [
      "0.9999999999999999\n",
      "2.000000000000003\n"
     ]
    }
   ],
   "execution_count": 106
  },
  {
   "cell_type": "code",
   "metadata": {
    "ExecuteTime": {
     "end_time": "2025-10-27T13:56:45.257203Z",
     "start_time": "2025-10-27T13:56:45.254685Z"
    }
   },
   "source": [
    "p18"
   ],
   "outputs": [
    {
     "data": {
      "text/plain": [
       "array([1., 2.])"
      ]
     },
     "execution_count": 107,
     "metadata": {},
     "output_type": "execute_result"
    }
   ],
   "execution_count": 107
  },
  {
   "cell_type": "code",
   "metadata": {
    "ExecuteTime": {
     "end_time": "2025-10-27T13:56:46.782476Z",
     "start_time": "2025-10-27T13:56:46.779481Z"
    }
   },
   "source": [
    "# should match the last row of q18\n",
    "\n",
    "p18 @ q18[:2,:] if p18 is not ... else None"
   ],
   "outputs": [
    {
     "data": {
      "text/plain": [
       "array([0.4, 0.7, 0.5])"
      ]
     },
     "execution_count": 108,
     "metadata": {},
     "output_type": "execute_result"
    }
   ],
   "execution_count": 108
  },
  {
   "cell_type": "markdown",
   "metadata": {},
   "source": [
    "### Problem 19\n",
    "\n",
    "Set `p19` to be the inverse of `q19`.\n"
   ]
  },
  {
   "cell_type": "markdown",
   "metadata": {},
   "source": [
    "Hint: NumPy has a function for this in its \"linalg\" sub-module."
   ]
  },
  {
   "cell_type": "code",
   "metadata": {
    "ExecuteTime": {
     "end_time": "2025-10-26T22:08:07.762170Z",
     "start_time": "2025-10-26T22:08:07.759084Z"
    }
   },
   "source": [
    "# DO NOT CHANGE\n",
    "\n",
    "q19 = np.array([[1, 0.2, 0.4], [0.3, 1.2, 1.5], [2.0, 0.1, 0.2]])\n",
    "q19"
   ],
   "outputs": [
    {
     "data": {
      "text/plain": [
       "array([[1. , 0.2, 0.4],\n",
       "       [0.3, 1.2, 1.5],\n",
       "       [2. , 0.1, 0.2]])"
      ]
     },
     "execution_count": 83,
     "metadata": {},
     "output_type": "execute_result"
    }
   ],
   "execution_count": 83
  },
  {
   "cell_type": "code",
   "metadata": {
    "ExecuteTime": {
     "end_time": "2025-10-26T22:08:24.055772Z",
     "start_time": "2025-10-26T22:08:24.054062Z"
    }
   },
   "source": [
    "# YOUR CHANGES HERE\n",
    "\n",
    "p19 = np.linalg.inv(q19)"
   ],
   "outputs": [],
   "execution_count": 84
  },
  {
   "cell_type": "code",
   "metadata": {
    "ExecuteTime": {
     "end_time": "2025-10-26T22:08:25.762016Z",
     "start_time": "2025-10-26T22:08:25.759220Z"
    }
   },
   "source": [
    "p19"
   ],
   "outputs": [
    {
     "data": {
      "text/plain": [
       "array([[-3.33333333e-01,  1.72701359e-17,  6.66666667e-01],\n",
       "       [-1.08888889e+01,  2.22222222e+00,  5.11111111e+00],\n",
       "       [ 8.77777778e+00, -1.11111111e+00, -4.22222222e+00]])"
      ]
     },
     "execution_count": 85,
     "metadata": {},
     "output_type": "execute_result"
    }
   ],
   "execution_count": 85
  },
  {
   "cell_type": "code",
   "metadata": {
    "ExecuteTime": {
     "end_time": "2025-10-26T22:08:29.107967Z",
     "start_time": "2025-10-26T22:08:29.105192Z"
    }
   },
   "source": [
    "# try multiplying them together if p19 was assigned. should give an identity matrix.\n",
    "\n",
    "q19 @ p19 if p19 is not ... else None\n"
   ],
   "outputs": [
    {
     "data": {
      "text/plain": [
       "array([[ 1.00000000e+00, -6.90805438e-17, -4.93432455e-18],\n",
       "       [ 8.88178420e-16,  1.00000000e+00, -1.77635684e-15],\n",
       "       [ 0.00000000e+00,  0.00000000e+00,  1.00000000e+00]])"
      ]
     },
     "execution_count": 86,
     "metadata": {},
     "output_type": "execute_result"
    }
   ],
   "execution_count": 86
  },
  {
   "cell_type": "markdown",
   "metadata": {},
   "source": [
    "### Problem 20\n",
    "\n",
    "The matrix in `q20` represents a rotation transformation.\n",
    "Set `p20` to the angle in radians of that rotation.\n"
   ]
  },
  {
   "cell_type": "markdown",
   "metadata": {},
   "source": [
    "Hint: such a matrix is usually called a \"rotation matrix\"."
   ]
  },
  {
   "cell_type": "code",
   "metadata": {
    "ExecuteTime": {
     "end_time": "2025-10-27T14:07:17.502490Z",
     "start_time": "2025-10-27T14:07:17.499971Z"
    }
   },
   "source": [
    "# DO NOT CHANGE\n",
    "\n",
    "q20 = np.array([[0.7402293552151602, -0.672354446462391], [0.672354446462391, 0.7402293552151602]])\n",
    "q20"
   ],
   "outputs": [
    {
     "data": {
      "text/plain": [
       "array([[ 0.74022936, -0.67235445],\n",
       "       [ 0.67235445,  0.74022936]])"
      ]
     },
     "execution_count": 113,
     "metadata": {},
     "output_type": "execute_result"
    }
   ],
   "execution_count": 113
  },
  {
   "cell_type": "code",
   "metadata": {
    "ExecuteTime": {
     "end_time": "2025-10-27T14:10:53.791695Z",
     "start_time": "2025-10-27T14:10:53.789773Z"
    }
   },
   "source": [
    "# YOUR CHANGES HERE\n",
    "\n",
    "a = q20[0, 0]\n",
    "b = q20[1, 0]\n",
    "\n",
    "p20 = np.arctan2(b, a)"
   ],
   "outputs": [],
   "execution_count": 121
  },
  {
   "cell_type": "code",
   "metadata": {
    "ExecuteTime": {
     "end_time": "2025-10-27T14:10:55.150821Z",
     "start_time": "2025-10-27T14:10:55.148218Z"
    }
   },
   "source": [
    "p20"
   ],
   "outputs": [
    {
     "data": {
      "text/plain": [
       "np.float64(0.7373849099999998)"
      ]
     },
     "execution_count": 122,
     "metadata": {},
     "output_type": "execute_result"
    }
   ],
   "execution_count": 122
  },
  {
   "cell_type": "markdown",
   "metadata": {},
   "source": [
    "### Generative AI Usage\n",
    "\n",
    "If you used any generative AI tools, please add links to your transcripts below, and any other information that you feel is necessary to comply with the [generative AI policy](https://www.bu.edu/cds-faculty/culture-community/gaia-policy/).\n",
    "If you did not use any generative AI tools, simply write NONE below."
   ]
  },
  {
   "cell_type": "markdown",
   "metadata": {},
   "source": [
    "YOUR ANSWER HERE\n",
    "\n",
    "Problem 11\n",
    "* I wasn’t sure how to find the eigenvalue when given an eigenvector. I learned we can use the division method instead of np.linalg.eig.\n",
    "* https://chatgpt.com/share/68fe45e9-ad64-800d-962c-ea3927605d44\n",
    "\n",
    "Problem 12\n",
    "* I didn't know the manual calculation for finding reduced row echelon form.\n",
    "* https://chatgpt.com/share/68fe99b3-3224-800d-88d2-e28e8842d980\n",
    "\n",
    "Problem 13\n",
    "* I knew I was close, but didn't understand why it wasn't the correct value. I learned that to prevent truncation we need to change to a float which makes sense.\n",
    "* https://chatgpt.com/share/690635a9-40cc-800d-af3f-84d771cb13ce\n",
    "\n",
    "Problem 17\n",
    "* I knew I was close, but didn't understand that I needed a separate pivot row. After learning about why, it made more sense.\n",
    "* https://chatgpt.com/share/69063803-8efc-800d-bce7-91e1ff00e83a\n",
    "\n",
    "Problem 20\n",
    "* I didn't know how to find the angle in radians of the rotation given a rotation matrix.\n",
    "* https://chatgpt.com/share/68ff7dad-1c70-800d-b113-6529044ffa87"
   ]
  }
 ],
 "metadata": {
  "kernelspec": {
   "display_name": "Python 3",
   "language": "python",
   "name": "python3"
  },
  "language_info": {
   "codemirror_mode": {
    "name": "ipython",
    "version": 3
   },
   "file_extension": ".py",
   "mimetype": "text/x-python",
   "name": "python",
   "nbconvert_exporter": "python",
   "pygments_lexer": "ipython3",
   "version": "3.13.0"
  }
 },
 "nbformat": 4,
 "nbformat_minor": 2
}
